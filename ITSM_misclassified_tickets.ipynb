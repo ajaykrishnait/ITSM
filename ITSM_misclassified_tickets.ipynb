{
  "nbformat": 4,
  "nbformat_minor": 0,
  "metadata": {
    "kernelspec": {
      "display_name": "Python 3",
      "language": "python",
      "name": "python3"
    },
    "language_info": {
      "codemirror_mode": {
        "name": "ipython",
        "version": 3
      },
      "file_extension": ".py",
      "mimetype": "text/x-python",
      "name": "python",
      "nbconvert_exporter": "python",
      "pygments_lexer": "ipython3",
      "version": "3.7.3"
    },
    "colab": {
      "name": "ITSM_misclassified_tickets.ipynb",
      "provenance": [],
      "collapsed_sections": []
    }
  },
  "cells": [
    {
      "cell_type": "code",
      "metadata": {
        "colab_type": "code",
        "id": "L7yUNzd20eGC",
        "colab": {}
      },
      "source": [
        ""
      ],
      "execution_count": 0,
      "outputs": []
    },
    {
      "cell_type": "code",
      "metadata": {
        "id": "4JvpIHlppSFX",
        "colab_type": "code",
        "colab": {}
      },
      "source": [
        "import pandas as pd\n",
        "import numpy as np\n",
        "from collections import Counter"
      ],
      "execution_count": 0,
      "outputs": []
    },
    {
      "cell_type": "code",
      "metadata": {
        "id": "LPhXseCccG-8",
        "colab_type": "code",
        "outputId": "76081662-6c56-469a-cd6c-1d88491510db",
        "colab": {
          "base_uri": "https://localhost:8080/",
          "height": 70
        }
      },
      "source": [
        "date_parser = lambda c: pd.to_datetime(c, format='%d/%m/%Y %H:%M:%S', errors='coerce')\n",
        "data = pd.read_csv('ITSM_data.csv',parse_dates=['Open_Time','Reopen_Time','Close_Time','Resolved_Time'])"
      ],
      "execution_count": 0,
      "outputs": [
        {
          "output_type": "stream",
          "text": [
            "/usr/local/lib/python3.6/dist-packages/IPython/core/interactiveshell.py:2718: DtypeWarning: Columns (8) have mixed types. Specify dtype option on import or set low_memory=False.\n",
            "  interactivity=interactivity, compiler=compiler, result=result)\n"
          ],
          "name": "stderr"
        }
      ]
    },
    {
      "cell_type": "code",
      "metadata": {
        "id": "VP9JscL3cG_L",
        "colab_type": "code",
        "outputId": "c78a85e5-e76a-4e4d-b69b-3c6b6769a745",
        "colab": {
          "base_uri": "https://localhost:8080/",
          "height": 400
        }
      },
      "source": [
        "data.head()"
      ],
      "execution_count": 0,
      "outputs": [
        {
          "output_type": "execute_result",
          "data": {
            "text/html": [
              "<div>\n",
              "<style scoped>\n",
              "    .dataframe tbody tr th:only-of-type {\n",
              "        vertical-align: middle;\n",
              "    }\n",
              "\n",
              "    .dataframe tbody tr th {\n",
              "        vertical-align: top;\n",
              "    }\n",
              "\n",
              "    .dataframe thead th {\n",
              "        text-align: right;\n",
              "    }\n",
              "</style>\n",
              "<table border=\"1\" class=\"dataframe\">\n",
              "  <thead>\n",
              "    <tr style=\"text-align: right;\">\n",
              "      <th></th>\n",
              "      <th>Unnamed: 0</th>\n",
              "      <th>CI_Name</th>\n",
              "      <th>CI_Cat</th>\n",
              "      <th>CI_Subcat</th>\n",
              "      <th>WBS</th>\n",
              "      <th>Incident_ID</th>\n",
              "      <th>Status</th>\n",
              "      <th>Impact</th>\n",
              "      <th>Urgency</th>\n",
              "      <th>Priority</th>\n",
              "      <th>number_cnt</th>\n",
              "      <th>Category</th>\n",
              "      <th>KB_number</th>\n",
              "      <th>Alert_Status</th>\n",
              "      <th>No_of_Reassignments</th>\n",
              "      <th>Open_Time</th>\n",
              "      <th>Reopen_Time</th>\n",
              "      <th>Resolved_Time</th>\n",
              "      <th>Close_Time</th>\n",
              "      <th>Handle_Time_hrs</th>\n",
              "      <th>Closure_Code</th>\n",
              "      <th>No_of_Related_Interactions</th>\n",
              "      <th>Related_Interaction</th>\n",
              "      <th>No_of_Related_Incidents</th>\n",
              "      <th>No_of_Related_Changes</th>\n",
              "      <th>Related_Change</th>\n",
              "    </tr>\n",
              "  </thead>\n",
              "  <tbody>\n",
              "    <tr>\n",
              "      <th>0</th>\n",
              "      <td>0</td>\n",
              "      <td>SUB000508</td>\n",
              "      <td>subapplication</td>\n",
              "      <td>Web Based Application</td>\n",
              "      <td>WBS000162</td>\n",
              "      <td>IM0000004</td>\n",
              "      <td>Closed</td>\n",
              "      <td>4</td>\n",
              "      <td>4</td>\n",
              "      <td>4.0</td>\n",
              "      <td>0.601292</td>\n",
              "      <td>incident</td>\n",
              "      <td>KM0000553</td>\n",
              "      <td>closed</td>\n",
              "      <td>26.0</td>\n",
              "      <td>2012-05-02 13:32:00</td>\n",
              "      <td>NaT</td>\n",
              "      <td>2013-04-11 13:50:00</td>\n",
              "      <td>2013-04-11 13:51:00</td>\n",
              "      <td>3,87,16,91,111</td>\n",
              "      <td>Other</td>\n",
              "      <td>1.0</td>\n",
              "      <td>SD0000007</td>\n",
              "      <td>2.0</td>\n",
              "      <td>NaN</td>\n",
              "      <td>NaN</td>\n",
              "    </tr>\n",
              "    <tr>\n",
              "      <th>1</th>\n",
              "      <td>1</td>\n",
              "      <td>WBA000124</td>\n",
              "      <td>application</td>\n",
              "      <td>Web Based Application</td>\n",
              "      <td>WBS000088</td>\n",
              "      <td>IM0000005</td>\n",
              "      <td>Closed</td>\n",
              "      <td>3</td>\n",
              "      <td>3</td>\n",
              "      <td>3.0</td>\n",
              "      <td>0.415050</td>\n",
              "      <td>incident</td>\n",
              "      <td>KM0000611</td>\n",
              "      <td>closed</td>\n",
              "      <td>33.0</td>\n",
              "      <td>2012-12-03 15:44:00</td>\n",
              "      <td>2013-02-12 12:31:00</td>\n",
              "      <td>2013-02-12 12:36:00</td>\n",
              "      <td>2013-02-12 12:36:00</td>\n",
              "      <td>4,35,47,86,389</td>\n",
              "      <td>Software</td>\n",
              "      <td>1.0</td>\n",
              "      <td>SD0000011</td>\n",
              "      <td>1.0</td>\n",
              "      <td>NaN</td>\n",
              "      <td>NaN</td>\n",
              "    </tr>\n",
              "    <tr>\n",
              "      <th>2</th>\n",
              "      <td>2</td>\n",
              "      <td>DTA000024</td>\n",
              "      <td>application</td>\n",
              "      <td>Desktop Application</td>\n",
              "      <td>WBS000092</td>\n",
              "      <td>IM0000006</td>\n",
              "      <td>Closed</td>\n",
              "      <td>NS</td>\n",
              "      <td>3</td>\n",
              "      <td>NaN</td>\n",
              "      <td>0.517551</td>\n",
              "      <td>request for information</td>\n",
              "      <td>KM0000339</td>\n",
              "      <td>closed</td>\n",
              "      <td>3.0</td>\n",
              "      <td>2012-03-29 12:36:00</td>\n",
              "      <td>NaT</td>\n",
              "      <td>2014-01-13 15:12:00</td>\n",
              "      <td>2014-01-13 15:13:00</td>\n",
              "      <td>4,84,31,19,444</td>\n",
              "      <td>No error - works as designed</td>\n",
              "      <td>1.0</td>\n",
              "      <td>SD0000017</td>\n",
              "      <td>NaN</td>\n",
              "      <td>NaN</td>\n",
              "      <td>NaN</td>\n",
              "    </tr>\n",
              "    <tr>\n",
              "      <th>3</th>\n",
              "      <td>3</td>\n",
              "      <td>WBA000124</td>\n",
              "      <td>application</td>\n",
              "      <td>Web Based Application</td>\n",
              "      <td>WBS000088</td>\n",
              "      <td>IM0000011</td>\n",
              "      <td>Closed</td>\n",
              "      <td>4</td>\n",
              "      <td>4</td>\n",
              "      <td>4.0</td>\n",
              "      <td>0.642927</td>\n",
              "      <td>incident</td>\n",
              "      <td>KM0000611</td>\n",
              "      <td>closed</td>\n",
              "      <td>13.0</td>\n",
              "      <td>2012-07-17 11:49:00</td>\n",
              "      <td>NaT</td>\n",
              "      <td>2013-11-14 09:31:00</td>\n",
              "      <td>2013-11-14 09:31:00</td>\n",
              "      <td>4,32,18,33,333</td>\n",
              "      <td>Operator error</td>\n",
              "      <td>1.0</td>\n",
              "      <td>SD0000025</td>\n",
              "      <td>NaN</td>\n",
              "      <td>NaN</td>\n",
              "      <td>NaN</td>\n",
              "    </tr>\n",
              "    <tr>\n",
              "      <th>4</th>\n",
              "      <td>4</td>\n",
              "      <td>WBA000124</td>\n",
              "      <td>application</td>\n",
              "      <td>Web Based Application</td>\n",
              "      <td>WBS000088</td>\n",
              "      <td>IM0000012</td>\n",
              "      <td>Closed</td>\n",
              "      <td>4</td>\n",
              "      <td>4</td>\n",
              "      <td>4.0</td>\n",
              "      <td>0.345258</td>\n",
              "      <td>incident</td>\n",
              "      <td>KM0000611</td>\n",
              "      <td>closed</td>\n",
              "      <td>2.0</td>\n",
              "      <td>2012-10-08 11:01:00</td>\n",
              "      <td>NaT</td>\n",
              "      <td>2013-08-11 13:55:00</td>\n",
              "      <td>2013-08-11 13:55:00</td>\n",
              "      <td>3,38,39,03,333</td>\n",
              "      <td>Other</td>\n",
              "      <td>1.0</td>\n",
              "      <td>SD0000029</td>\n",
              "      <td>NaN</td>\n",
              "      <td>NaN</td>\n",
              "      <td>NaN</td>\n",
              "    </tr>\n",
              "  </tbody>\n",
              "</table>\n",
              "</div>"
            ],
            "text/plain": [
              "   Unnamed: 0    CI_Name  ... No_of_Related_Changes Related_Change\n",
              "0           0  SUB000508  ...                   NaN            NaN\n",
              "1           1  WBA000124  ...                   NaN            NaN\n",
              "2           2  DTA000024  ...                   NaN            NaN\n",
              "3           3  WBA000124  ...                   NaN            NaN\n",
              "4           4  WBA000124  ...                   NaN            NaN\n",
              "\n",
              "[5 rows x 26 columns]"
            ]
          },
          "metadata": {
            "tags": []
          },
          "execution_count": 99
        }
      ]
    },
    {
      "cell_type": "code",
      "metadata": {
        "id": "mElwat9XcG_b",
        "colab_type": "code",
        "outputId": "1eb022c4-ecec-4079-c53e-92aa3beb04b2",
        "colab": {
          "base_uri": "https://localhost:8080/",
          "height": 535
        }
      },
      "source": [
        "data.info()"
      ],
      "execution_count": 0,
      "outputs": [
        {
          "output_type": "stream",
          "text": [
            "<class 'pandas.core.frame.DataFrame'>\n",
            "RangeIndex: 46606 entries, 0 to 46605\n",
            "Data columns (total 26 columns):\n",
            "Unnamed: 0                    46606 non-null int64\n",
            "CI_Name                       46606 non-null object\n",
            "CI_Cat                        46495 non-null object\n",
            "CI_Subcat                     46495 non-null object\n",
            "WBS                           46606 non-null object\n",
            "Incident_ID                   46606 non-null object\n",
            "Status                        46606 non-null object\n",
            "Impact                        46606 non-null object\n",
            "Urgency                       46606 non-null object\n",
            "Priority                      45226 non-null float64\n",
            "number_cnt                    46606 non-null float64\n",
            "Category                      46606 non-null object\n",
            "KB_number                     46606 non-null object\n",
            "Alert_Status                  46606 non-null object\n",
            "No_of_Reassignments           46605 non-null float64\n",
            "Open_Time                     46606 non-null datetime64[ns]\n",
            "Reopen_Time                   2284 non-null datetime64[ns]\n",
            "Resolved_Time                 44826 non-null datetime64[ns]\n",
            "Close_Time                    46606 non-null datetime64[ns]\n",
            "Handle_Time_hrs               46605 non-null object\n",
            "Closure_Code                  46146 non-null object\n",
            "No_of_Related_Interactions    46492 non-null float64\n",
            "Related_Interaction           46606 non-null object\n",
            "No_of_Related_Incidents       1222 non-null float64\n",
            "No_of_Related_Changes         560 non-null float64\n",
            "Related_Change                560 non-null object\n",
            "dtypes: datetime64[ns](4), float64(6), int64(1), object(15)\n",
            "memory usage: 9.2+ MB\n"
          ],
          "name": "stdout"
        }
      ]
    },
    {
      "cell_type": "code",
      "metadata": {
        "id": "4bIzoeQicG_n",
        "colab_type": "code",
        "outputId": "0095aac4-337a-40c9-b4e2-57462ba21ef8",
        "colab": {
          "base_uri": "https://localhost:8080/",
          "height": 351
        }
      },
      "source": [
        "Counter(data.No_of_Reassignments).most_common(20)"
      ],
      "execution_count": 0,
      "outputs": [
        {
          "output_type": "execute_result",
          "data": {
            "text/plain": [
              "[(0.0, 27468),\n",
              " (1.0, 7268),\n",
              " (2.0, 5378),\n",
              " (3.0, 2191),\n",
              " (4.0, 1606),\n",
              " (5.0, 721),\n",
              " (6.0, 622),\n",
              " (7.0, 329),\n",
              " (8.0, 246),\n",
              " (9.0, 170),\n",
              " (10.0, 146),\n",
              " (11.0, 101),\n",
              " (13.0, 61),\n",
              " (12.0, 58),\n",
              " (14.0, 47),\n",
              " (15.0, 43),\n",
              " (17.0, 27),\n",
              " (16.0, 25),\n",
              " (18.0, 14),\n",
              " (21.0, 11)]"
            ]
          },
          "metadata": {
            "tags": []
          },
          "execution_count": 101
        }
      ]
    },
    {
      "cell_type": "code",
      "metadata": {
        "id": "rGVJ0-ZFcG_z",
        "colab_type": "code",
        "outputId": "55c1627a-44b6-4a3e-d44c-c92086bd8432",
        "colab": {
          "base_uri": "https://localhost:8080/",
          "height": 33
        }
      },
      "source": [
        "data.No_of_Reassignments[2].dtype"
      ],
      "execution_count": 0,
      "outputs": [
        {
          "output_type": "execute_result",
          "data": {
            "text/plain": [
              "dtype('float64')"
            ]
          },
          "metadata": {
            "tags": []
          },
          "execution_count": 102
        }
      ]
    },
    {
      "cell_type": "code",
      "metadata": {
        "id": "RjkfOC1AcG_-",
        "colab_type": "code",
        "colab": {}
      },
      "source": [
        "data.loc[data.No_of_Reassignments>3.0,'reassignment'] ='high'\n",
        "data.loc[data.No_of_Reassignments<=3.0,'reassignment'] ='low'"
      ],
      "execution_count": 0,
      "outputs": []
    },
    {
      "cell_type": "code",
      "metadata": {
        "id": "2i8HtzO1cHAG",
        "colab_type": "code",
        "outputId": "f119f561-d8c1-435c-9af0-04e9d103f0d4",
        "colab": {
          "base_uri": "https://localhost:8080/",
          "height": 400
        }
      },
      "source": [
        "data.head()"
      ],
      "execution_count": 0,
      "outputs": [
        {
          "output_type": "execute_result",
          "data": {
            "text/html": [
              "<div>\n",
              "<style scoped>\n",
              "    .dataframe tbody tr th:only-of-type {\n",
              "        vertical-align: middle;\n",
              "    }\n",
              "\n",
              "    .dataframe tbody tr th {\n",
              "        vertical-align: top;\n",
              "    }\n",
              "\n",
              "    .dataframe thead th {\n",
              "        text-align: right;\n",
              "    }\n",
              "</style>\n",
              "<table border=\"1\" class=\"dataframe\">\n",
              "  <thead>\n",
              "    <tr style=\"text-align: right;\">\n",
              "      <th></th>\n",
              "      <th>Unnamed: 0</th>\n",
              "      <th>CI_Name</th>\n",
              "      <th>CI_Cat</th>\n",
              "      <th>CI_Subcat</th>\n",
              "      <th>WBS</th>\n",
              "      <th>Incident_ID</th>\n",
              "      <th>Status</th>\n",
              "      <th>Impact</th>\n",
              "      <th>Urgency</th>\n",
              "      <th>Priority</th>\n",
              "      <th>number_cnt</th>\n",
              "      <th>Category</th>\n",
              "      <th>KB_number</th>\n",
              "      <th>Alert_Status</th>\n",
              "      <th>No_of_Reassignments</th>\n",
              "      <th>Open_Time</th>\n",
              "      <th>Reopen_Time</th>\n",
              "      <th>Resolved_Time</th>\n",
              "      <th>Close_Time</th>\n",
              "      <th>Handle_Time_hrs</th>\n",
              "      <th>Closure_Code</th>\n",
              "      <th>No_of_Related_Interactions</th>\n",
              "      <th>Related_Interaction</th>\n",
              "      <th>No_of_Related_Incidents</th>\n",
              "      <th>No_of_Related_Changes</th>\n",
              "      <th>Related_Change</th>\n",
              "      <th>reassignment</th>\n",
              "    </tr>\n",
              "  </thead>\n",
              "  <tbody>\n",
              "    <tr>\n",
              "      <th>0</th>\n",
              "      <td>0</td>\n",
              "      <td>SUB000508</td>\n",
              "      <td>subapplication</td>\n",
              "      <td>Web Based Application</td>\n",
              "      <td>WBS000162</td>\n",
              "      <td>IM0000004</td>\n",
              "      <td>Closed</td>\n",
              "      <td>4</td>\n",
              "      <td>4</td>\n",
              "      <td>4.0</td>\n",
              "      <td>0.601292</td>\n",
              "      <td>incident</td>\n",
              "      <td>KM0000553</td>\n",
              "      <td>closed</td>\n",
              "      <td>26.0</td>\n",
              "      <td>2012-05-02 13:32:00</td>\n",
              "      <td>NaT</td>\n",
              "      <td>2013-04-11 13:50:00</td>\n",
              "      <td>2013-04-11 13:51:00</td>\n",
              "      <td>3,87,16,91,111</td>\n",
              "      <td>Other</td>\n",
              "      <td>1.0</td>\n",
              "      <td>SD0000007</td>\n",
              "      <td>2.0</td>\n",
              "      <td>NaN</td>\n",
              "      <td>NaN</td>\n",
              "      <td>high</td>\n",
              "    </tr>\n",
              "    <tr>\n",
              "      <th>1</th>\n",
              "      <td>1</td>\n",
              "      <td>WBA000124</td>\n",
              "      <td>application</td>\n",
              "      <td>Web Based Application</td>\n",
              "      <td>WBS000088</td>\n",
              "      <td>IM0000005</td>\n",
              "      <td>Closed</td>\n",
              "      <td>3</td>\n",
              "      <td>3</td>\n",
              "      <td>3.0</td>\n",
              "      <td>0.415050</td>\n",
              "      <td>incident</td>\n",
              "      <td>KM0000611</td>\n",
              "      <td>closed</td>\n",
              "      <td>33.0</td>\n",
              "      <td>2012-12-03 15:44:00</td>\n",
              "      <td>2013-02-12 12:31:00</td>\n",
              "      <td>2013-02-12 12:36:00</td>\n",
              "      <td>2013-02-12 12:36:00</td>\n",
              "      <td>4,35,47,86,389</td>\n",
              "      <td>Software</td>\n",
              "      <td>1.0</td>\n",
              "      <td>SD0000011</td>\n",
              "      <td>1.0</td>\n",
              "      <td>NaN</td>\n",
              "      <td>NaN</td>\n",
              "      <td>high</td>\n",
              "    </tr>\n",
              "    <tr>\n",
              "      <th>2</th>\n",
              "      <td>2</td>\n",
              "      <td>DTA000024</td>\n",
              "      <td>application</td>\n",
              "      <td>Desktop Application</td>\n",
              "      <td>WBS000092</td>\n",
              "      <td>IM0000006</td>\n",
              "      <td>Closed</td>\n",
              "      <td>NS</td>\n",
              "      <td>3</td>\n",
              "      <td>NaN</td>\n",
              "      <td>0.517551</td>\n",
              "      <td>request for information</td>\n",
              "      <td>KM0000339</td>\n",
              "      <td>closed</td>\n",
              "      <td>3.0</td>\n",
              "      <td>2012-03-29 12:36:00</td>\n",
              "      <td>NaT</td>\n",
              "      <td>2014-01-13 15:12:00</td>\n",
              "      <td>2014-01-13 15:13:00</td>\n",
              "      <td>4,84,31,19,444</td>\n",
              "      <td>No error - works as designed</td>\n",
              "      <td>1.0</td>\n",
              "      <td>SD0000017</td>\n",
              "      <td>NaN</td>\n",
              "      <td>NaN</td>\n",
              "      <td>NaN</td>\n",
              "      <td>low</td>\n",
              "    </tr>\n",
              "    <tr>\n",
              "      <th>3</th>\n",
              "      <td>3</td>\n",
              "      <td>WBA000124</td>\n",
              "      <td>application</td>\n",
              "      <td>Web Based Application</td>\n",
              "      <td>WBS000088</td>\n",
              "      <td>IM0000011</td>\n",
              "      <td>Closed</td>\n",
              "      <td>4</td>\n",
              "      <td>4</td>\n",
              "      <td>4.0</td>\n",
              "      <td>0.642927</td>\n",
              "      <td>incident</td>\n",
              "      <td>KM0000611</td>\n",
              "      <td>closed</td>\n",
              "      <td>13.0</td>\n",
              "      <td>2012-07-17 11:49:00</td>\n",
              "      <td>NaT</td>\n",
              "      <td>2013-11-14 09:31:00</td>\n",
              "      <td>2013-11-14 09:31:00</td>\n",
              "      <td>4,32,18,33,333</td>\n",
              "      <td>Operator error</td>\n",
              "      <td>1.0</td>\n",
              "      <td>SD0000025</td>\n",
              "      <td>NaN</td>\n",
              "      <td>NaN</td>\n",
              "      <td>NaN</td>\n",
              "      <td>high</td>\n",
              "    </tr>\n",
              "    <tr>\n",
              "      <th>4</th>\n",
              "      <td>4</td>\n",
              "      <td>WBA000124</td>\n",
              "      <td>application</td>\n",
              "      <td>Web Based Application</td>\n",
              "      <td>WBS000088</td>\n",
              "      <td>IM0000012</td>\n",
              "      <td>Closed</td>\n",
              "      <td>4</td>\n",
              "      <td>4</td>\n",
              "      <td>4.0</td>\n",
              "      <td>0.345258</td>\n",
              "      <td>incident</td>\n",
              "      <td>KM0000611</td>\n",
              "      <td>closed</td>\n",
              "      <td>2.0</td>\n",
              "      <td>2012-10-08 11:01:00</td>\n",
              "      <td>NaT</td>\n",
              "      <td>2013-08-11 13:55:00</td>\n",
              "      <td>2013-08-11 13:55:00</td>\n",
              "      <td>3,38,39,03,333</td>\n",
              "      <td>Other</td>\n",
              "      <td>1.0</td>\n",
              "      <td>SD0000029</td>\n",
              "      <td>NaN</td>\n",
              "      <td>NaN</td>\n",
              "      <td>NaN</td>\n",
              "      <td>low</td>\n",
              "    </tr>\n",
              "  </tbody>\n",
              "</table>\n",
              "</div>"
            ],
            "text/plain": [
              "   Unnamed: 0    CI_Name  ... Related_Change reassignment\n",
              "0           0  SUB000508  ...            NaN         high\n",
              "1           1  WBA000124  ...            NaN         high\n",
              "2           2  DTA000024  ...            NaN          low\n",
              "3           3  WBA000124  ...            NaN         high\n",
              "4           4  WBA000124  ...            NaN          low\n",
              "\n",
              "[5 rows x 27 columns]"
            ]
          },
          "metadata": {
            "tags": []
          },
          "execution_count": 104
        }
      ]
    },
    {
      "cell_type": "code",
      "metadata": {
        "id": "kZDxLzDFcHAR",
        "colab_type": "code",
        "outputId": "dc10200d-6e7d-41a8-e023-6a7672dcfb94",
        "colab": {
          "base_uri": "https://localhost:8080/",
          "height": 33
        }
      },
      "source": [
        "Counter(data.reassignment)"
      ],
      "execution_count": 0,
      "outputs": [
        {
          "output_type": "execute_result",
          "data": {
            "text/plain": [
              "Counter({'high': 4300, 'low': 42305, nan: 1})"
            ]
          },
          "metadata": {
            "tags": []
          },
          "execution_count": 105
        }
      ]
    },
    {
      "cell_type": "code",
      "metadata": {
        "id": "ee9iRP9_cHAb",
        "colab_type": "code",
        "colab": {}
      },
      "source": [
        "data = data[data.reassignment.isnull()==False]"
      ],
      "execution_count": 0,
      "outputs": []
    },
    {
      "cell_type": "code",
      "metadata": {
        "id": "WEU6pZlJcHAl",
        "colab_type": "code",
        "outputId": "6ed21e5d-6ffb-4337-ce55-ef6be9686e62",
        "colab": {
          "base_uri": "https://localhost:8080/",
          "height": 33
        }
      },
      "source": [
        "Counter(data.reassignment)"
      ],
      "execution_count": 0,
      "outputs": [
        {
          "output_type": "execute_result",
          "data": {
            "text/plain": [
              "Counter({'high': 4300, 'low': 42305})"
            ]
          },
          "metadata": {
            "tags": []
          },
          "execution_count": 107
        }
      ]
    },
    {
      "cell_type": "code",
      "metadata": {
        "id": "HUJ8eqaJcHAx",
        "colab_type": "code",
        "colab": {}
      },
      "source": [
        "selected = data.loc[:,['CI_Cat','CI_Subcat','WBS','Category','reassignment']]\n",
        "selected.dropna(inplace=True)"
      ],
      "execution_count": 0,
      "outputs": []
    },
    {
      "cell_type": "code",
      "metadata": {
        "id": "ycQiCip6cHA4",
        "colab_type": "code",
        "outputId": "b530769a-f196-4471-8e4f-74ead2d3c749",
        "colab": {
          "base_uri": "https://localhost:8080/",
          "height": 184
        }
      },
      "source": [
        "selected.info()"
      ],
      "execution_count": 0,
      "outputs": [
        {
          "output_type": "stream",
          "text": [
            "<class 'pandas.core.frame.DataFrame'>\n",
            "Int64Index: 46494 entries, 0 to 46605\n",
            "Data columns (total 5 columns):\n",
            "CI_Cat          46494 non-null object\n",
            "CI_Subcat       46494 non-null object\n",
            "WBS             46494 non-null object\n",
            "Category        46494 non-null object\n",
            "reassignment    46494 non-null object\n",
            "dtypes: object(5)\n",
            "memory usage: 2.1+ MB\n"
          ],
          "name": "stdout"
        }
      ]
    },
    {
      "cell_type": "code",
      "metadata": {
        "id": "Qbcno8TVcHBD",
        "colab_type": "code",
        "colab": {}
      },
      "source": [
        "X = selected.loc[:,['CI_Cat','CI_Subcat','WBS','Category']]\n",
        "y = selected.reassignment\n"
      ],
      "execution_count": 0,
      "outputs": []
    },
    {
      "cell_type": "code",
      "metadata": {
        "id": "hEMgrATDo2Ay",
        "colab_type": "code",
        "colab": {}
      },
      "source": [
        "from sklearn.preprocessing import LabelEncoder\n",
        "from sklearn.model_selection import train_test_split"
      ],
      "execution_count": 0,
      "outputs": []
    },
    {
      "cell_type": "code",
      "metadata": {
        "id": "NBopy9--oxu8",
        "colab_type": "code",
        "colab": {}
      },
      "source": [
        "enc = LabelEncoder()\n",
        "X.CI_Cat = enc.fit_transform(X.CI_Cat)\n",
        "X.CI_Subcat = enc.fit_transform(X.CI_Subcat)\n",
        "X.WBS = enc.fit_transform(X.WBS)\n",
        "X.Category = enc.fit_transform(X.Category)"
      ],
      "execution_count": 0,
      "outputs": []
    },
    {
      "cell_type": "code",
      "metadata": {
        "id": "xbvZv0XFoyAR",
        "colab_type": "code",
        "colab": {}
      },
      "source": [
        "from sklearn.model_selection import train_test_split\n",
        "X_train, X_test, y_train, y_test = train_test_split(X, y,stratify=y,random_state=0)"
      ],
      "execution_count": 0,
      "outputs": []
    },
    {
      "cell_type": "code",
      "metadata": {
        "id": "JC2_YCtnn7oE",
        "colab_type": "code",
        "outputId": "5bc17eea-02c7-40da-ec37-4329fc4113ec",
        "colab": {
          "base_uri": "https://localhost:8080/",
          "height": 150
        }
      },
      "source": [
        "from sklearn.ensemble import RandomForestClassifier\n",
        "model = RandomForestClassifier()\n",
        "model.fit(X_train,y_train)"
      ],
      "execution_count": 0,
      "outputs": [
        {
          "output_type": "execute_result",
          "data": {
            "text/plain": [
              "RandomForestClassifier(bootstrap=True, ccp_alpha=0.0, class_weight=None,\n",
              "                       criterion='gini', max_depth=None, max_features='auto',\n",
              "                       max_leaf_nodes=None, max_samples=None,\n",
              "                       min_impurity_decrease=0.0, min_impurity_split=None,\n",
              "                       min_samples_leaf=1, min_samples_split=2,\n",
              "                       min_weight_fraction_leaf=0.0, n_estimators=100,\n",
              "                       n_jobs=None, oob_score=False, random_state=None,\n",
              "                       verbose=0, warm_start=False)"
            ]
          },
          "metadata": {
            "tags": []
          },
          "execution_count": 114
        }
      ]
    },
    {
      "cell_type": "code",
      "metadata": {
        "id": "og8N5hNCpnxm",
        "colab_type": "code",
        "outputId": "6ec6c280-ab8e-4545-8a1e-3cfed0aeade2",
        "colab": {
          "base_uri": "https://localhost:8080/",
          "height": 167
        }
      },
      "source": [
        "\n",
        "from sklearn.metrics import classification_report\n",
        "from sklearn.metrics import confusion_matrix,accuracy_score\n",
        "print(classification_report(y_test,y_pred))"
      ],
      "execution_count": 0,
      "outputs": [
        {
          "output_type": "stream",
          "text": [
            "              precision    recall  f1-score   support\n",
            "\n",
            "        high       0.37      0.01      0.02      1073\n",
            "         low       0.91      1.00      0.95     10551\n",
            "\n",
            "    accuracy                           0.91     11624\n",
            "   macro avg       0.64      0.50      0.48     11624\n",
            "weighted avg       0.86      0.91      0.87     11624\n",
            "\n"
          ],
          "name": "stdout"
        }
      ]
    },
    {
      "cell_type": "code",
      "metadata": {
        "id": "Adpz7S4koFyQ",
        "colab_type": "code",
        "outputId": "0abf1927-5dc9-4365-c61f-e36d627ae544",
        "colab": {
          "base_uri": "https://localhost:8080/",
          "height": 67
        }
      },
      "source": [
        "y_pred = model.predict(X_test)\n",
        "from sklearn.metrics import confusion_matrix,accuracy_score\n",
        "print(confusion_matrix(y_test,y_pred))\n",
        "accuracy_score(y_test,y_pred)\n"
      ],
      "execution_count": 0,
      "outputs": [
        {
          "output_type": "stream",
          "text": [
            "[[   10  1063]\n",
            " [   14 10537]]\n"
          ],
          "name": "stdout"
        },
        {
          "output_type": "execute_result",
          "data": {
            "text/plain": [
              "0.9073468685478321"
            ]
          },
          "metadata": {
            "tags": []
          },
          "execution_count": 116
        }
      ]
    },
    {
      "cell_type": "code",
      "metadata": {
        "id": "tN8YYcy8oLs6",
        "colab_type": "code",
        "colab": {}
      },
      "source": [
        ""
      ],
      "execution_count": 0,
      "outputs": []
    },
    {
      "cell_type": "code",
      "metadata": {
        "id": "44wAIx_ZoLqO",
        "colab_type": "code",
        "colab": {}
      },
      "source": [
        ""
      ],
      "execution_count": 0,
      "outputs": []
    },
    {
      "cell_type": "code",
      "metadata": {
        "id": "jxiVU1c3oLmK",
        "colab_type": "code",
        "colab": {}
      },
      "source": [
        ""
      ],
      "execution_count": 0,
      "outputs": []
    }
  ]
}