{
  "nbformat": 4,
  "nbformat_minor": 0,
  "metadata": {
    "kernelspec": {
      "display_name": "Python 3",
      "language": "python",
      "name": "python3"
    },
    "language_info": {
      "codemirror_mode": {
        "name": "ipython",
        "version": 3
      },
      "file_extension": ".py",
      "mimetype": "text/x-python",
      "name": "python",
      "nbconvert_exporter": "python",
      "pygments_lexer": "ipython3",
      "version": "3.7.3"
    },
    "colab": {
      "provenance": []
    }
  },
  "cells": [
    {
      "cell_type": "code",
      "metadata": {
        "id": "3-fHAV5AcG-q"
      },
      "source": [
        "import pandas as pd\n",
        "import numpy as np\n",
        "from collections import Counter"
      ],
      "execution_count": null,
      "outputs": []
    },
    {
      "cell_type": "code",
      "source": [],
      "metadata": {
        "id": "YLqGSV58Jw47"
      },
      "execution_count": null,
      "outputs": []
    },
    {
      "cell_type": "code",
      "metadata": {
        "id": "LPhXseCccG-8",
        "colab": {
          "base_uri": "https://localhost:8080/",
          "height": 414
        },
        "outputId": "059a36b3-84da-4a36-a9a4-8810c4aba980"
      },
      "source": [
        "date_parser = lambda c: pd.to_datetime(c, format='%d/%m/%Y %H:%M:%S', errors='coerce')\n",
        "data = pd.read_csv('ITSM_data.csv', parse_dates=['Open_Time','Reopen_Time','Close_Time','Resolved_Time'])"
      ],
      "execution_count": null,
      "outputs": [
        {
          "output_type": "error",
          "ename": "FileNotFoundError",
          "evalue": "ignored",
          "traceback": [
            "\u001b[0;31m---------------------------------------------------------------------------\u001b[0m",
            "\u001b[0;31mFileNotFoundError\u001b[0m                         Traceback (most recent call last)",
            "\u001b[0;32m<ipython-input-2-7665b9c498c1>\u001b[0m in \u001b[0;36m<module>\u001b[0;34m()\u001b[0m\n\u001b[1;32m      1\u001b[0m \u001b[0mdate_parser\u001b[0m \u001b[0;34m=\u001b[0m \u001b[0;32mlambda\u001b[0m \u001b[0mc\u001b[0m\u001b[0;34m:\u001b[0m \u001b[0mpd\u001b[0m\u001b[0;34m.\u001b[0m\u001b[0mto_datetime\u001b[0m\u001b[0;34m(\u001b[0m\u001b[0mc\u001b[0m\u001b[0;34m,\u001b[0m \u001b[0mformat\u001b[0m\u001b[0;34m=\u001b[0m\u001b[0;34m'%d/%m/%Y %H:%M:%S'\u001b[0m\u001b[0;34m,\u001b[0m \u001b[0merrors\u001b[0m\u001b[0;34m=\u001b[0m\u001b[0;34m'coerce'\u001b[0m\u001b[0;34m)\u001b[0m\u001b[0;34m\u001b[0m\u001b[0;34m\u001b[0m\u001b[0m\n\u001b[0;32m----> 2\u001b[0;31m \u001b[0mdata\u001b[0m \u001b[0;34m=\u001b[0m \u001b[0mpd\u001b[0m\u001b[0;34m.\u001b[0m\u001b[0mread_csv\u001b[0m\u001b[0;34m(\u001b[0m\u001b[0;34m'ITSM_data.csv'\u001b[0m\u001b[0;34m,\u001b[0m \u001b[0mparse_dates\u001b[0m\u001b[0;34m=\u001b[0m\u001b[0;34m[\u001b[0m\u001b[0;34m'Open_Time'\u001b[0m\u001b[0;34m,\u001b[0m\u001b[0;34m'Reopen_Time'\u001b[0m\u001b[0;34m,\u001b[0m\u001b[0;34m'Close_Time'\u001b[0m\u001b[0;34m,\u001b[0m\u001b[0;34m'Resolved_Time'\u001b[0m\u001b[0;34m]\u001b[0m\u001b[0;34m)\u001b[0m\u001b[0;34m\u001b[0m\u001b[0;34m\u001b[0m\u001b[0m\n\u001b[0m",
            "\u001b[0;32m/usr/local/lib/python3.6/dist-packages/pandas/io/parsers.py\u001b[0m in \u001b[0;36mparser_f\u001b[0;34m(filepath_or_buffer, sep, delimiter, header, names, index_col, usecols, squeeze, prefix, mangle_dupe_cols, dtype, engine, converters, true_values, false_values, skipinitialspace, skiprows, skipfooter, nrows, na_values, keep_default_na, na_filter, verbose, skip_blank_lines, parse_dates, infer_datetime_format, keep_date_col, date_parser, dayfirst, cache_dates, iterator, chunksize, compression, thousands, decimal, lineterminator, quotechar, quoting, doublequote, escapechar, comment, encoding, dialect, error_bad_lines, warn_bad_lines, delim_whitespace, low_memory, memory_map, float_precision)\u001b[0m\n\u001b[1;32m    683\u001b[0m         )\n\u001b[1;32m    684\u001b[0m \u001b[0;34m\u001b[0m\u001b[0m\n\u001b[0;32m--> 685\u001b[0;31m         \u001b[0;32mreturn\u001b[0m \u001b[0m_read\u001b[0m\u001b[0;34m(\u001b[0m\u001b[0mfilepath_or_buffer\u001b[0m\u001b[0;34m,\u001b[0m \u001b[0mkwds\u001b[0m\u001b[0;34m)\u001b[0m\u001b[0;34m\u001b[0m\u001b[0;34m\u001b[0m\u001b[0m\n\u001b[0m\u001b[1;32m    686\u001b[0m \u001b[0;34m\u001b[0m\u001b[0m\n\u001b[1;32m    687\u001b[0m     \u001b[0mparser_f\u001b[0m\u001b[0;34m.\u001b[0m\u001b[0m__name__\u001b[0m \u001b[0;34m=\u001b[0m \u001b[0mname\u001b[0m\u001b[0;34m\u001b[0m\u001b[0;34m\u001b[0m\u001b[0m\n",
            "\u001b[0;32m/usr/local/lib/python3.6/dist-packages/pandas/io/parsers.py\u001b[0m in \u001b[0;36m_read\u001b[0;34m(filepath_or_buffer, kwds)\u001b[0m\n\u001b[1;32m    455\u001b[0m \u001b[0;34m\u001b[0m\u001b[0m\n\u001b[1;32m    456\u001b[0m     \u001b[0;31m# Create the parser.\u001b[0m\u001b[0;34m\u001b[0m\u001b[0;34m\u001b[0m\u001b[0;34m\u001b[0m\u001b[0m\n\u001b[0;32m--> 457\u001b[0;31m     \u001b[0mparser\u001b[0m \u001b[0;34m=\u001b[0m \u001b[0mTextFileReader\u001b[0m\u001b[0;34m(\u001b[0m\u001b[0mfp_or_buf\u001b[0m\u001b[0;34m,\u001b[0m \u001b[0;34m**\u001b[0m\u001b[0mkwds\u001b[0m\u001b[0;34m)\u001b[0m\u001b[0;34m\u001b[0m\u001b[0;34m\u001b[0m\u001b[0m\n\u001b[0m\u001b[1;32m    458\u001b[0m \u001b[0;34m\u001b[0m\u001b[0m\n\u001b[1;32m    459\u001b[0m     \u001b[0;32mif\u001b[0m \u001b[0mchunksize\u001b[0m \u001b[0;32mor\u001b[0m \u001b[0miterator\u001b[0m\u001b[0;34m:\u001b[0m\u001b[0;34m\u001b[0m\u001b[0;34m\u001b[0m\u001b[0m\n",
            "\u001b[0;32m/usr/local/lib/python3.6/dist-packages/pandas/io/parsers.py\u001b[0m in \u001b[0;36m__init__\u001b[0;34m(self, f, engine, **kwds)\u001b[0m\n\u001b[1;32m    893\u001b[0m             \u001b[0mself\u001b[0m\u001b[0;34m.\u001b[0m\u001b[0moptions\u001b[0m\u001b[0;34m[\u001b[0m\u001b[0;34m\"has_index_names\"\u001b[0m\u001b[0;34m]\u001b[0m \u001b[0;34m=\u001b[0m \u001b[0mkwds\u001b[0m\u001b[0;34m[\u001b[0m\u001b[0;34m\"has_index_names\"\u001b[0m\u001b[0;34m]\u001b[0m\u001b[0;34m\u001b[0m\u001b[0;34m\u001b[0m\u001b[0m\n\u001b[1;32m    894\u001b[0m \u001b[0;34m\u001b[0m\u001b[0m\n\u001b[0;32m--> 895\u001b[0;31m         \u001b[0mself\u001b[0m\u001b[0;34m.\u001b[0m\u001b[0m_make_engine\u001b[0m\u001b[0;34m(\u001b[0m\u001b[0mself\u001b[0m\u001b[0;34m.\u001b[0m\u001b[0mengine\u001b[0m\u001b[0;34m)\u001b[0m\u001b[0;34m\u001b[0m\u001b[0;34m\u001b[0m\u001b[0m\n\u001b[0m\u001b[1;32m    896\u001b[0m \u001b[0;34m\u001b[0m\u001b[0m\n\u001b[1;32m    897\u001b[0m     \u001b[0;32mdef\u001b[0m \u001b[0mclose\u001b[0m\u001b[0;34m(\u001b[0m\u001b[0mself\u001b[0m\u001b[0;34m)\u001b[0m\u001b[0;34m:\u001b[0m\u001b[0;34m\u001b[0m\u001b[0;34m\u001b[0m\u001b[0m\n",
            "\u001b[0;32m/usr/local/lib/python3.6/dist-packages/pandas/io/parsers.py\u001b[0m in \u001b[0;36m_make_engine\u001b[0;34m(self, engine)\u001b[0m\n\u001b[1;32m   1133\u001b[0m     \u001b[0;32mdef\u001b[0m \u001b[0m_make_engine\u001b[0m\u001b[0;34m(\u001b[0m\u001b[0mself\u001b[0m\u001b[0;34m,\u001b[0m \u001b[0mengine\u001b[0m\u001b[0;34m=\u001b[0m\u001b[0;34m\"c\"\u001b[0m\u001b[0;34m)\u001b[0m\u001b[0;34m:\u001b[0m\u001b[0;34m\u001b[0m\u001b[0;34m\u001b[0m\u001b[0m\n\u001b[1;32m   1134\u001b[0m         \u001b[0;32mif\u001b[0m \u001b[0mengine\u001b[0m \u001b[0;34m==\u001b[0m \u001b[0;34m\"c\"\u001b[0m\u001b[0;34m:\u001b[0m\u001b[0;34m\u001b[0m\u001b[0;34m\u001b[0m\u001b[0m\n\u001b[0;32m-> 1135\u001b[0;31m             \u001b[0mself\u001b[0m\u001b[0;34m.\u001b[0m\u001b[0m_engine\u001b[0m \u001b[0;34m=\u001b[0m \u001b[0mCParserWrapper\u001b[0m\u001b[0;34m(\u001b[0m\u001b[0mself\u001b[0m\u001b[0;34m.\u001b[0m\u001b[0mf\u001b[0m\u001b[0;34m,\u001b[0m \u001b[0;34m**\u001b[0m\u001b[0mself\u001b[0m\u001b[0;34m.\u001b[0m\u001b[0moptions\u001b[0m\u001b[0;34m)\u001b[0m\u001b[0;34m\u001b[0m\u001b[0;34m\u001b[0m\u001b[0m\n\u001b[0m\u001b[1;32m   1136\u001b[0m         \u001b[0;32melse\u001b[0m\u001b[0;34m:\u001b[0m\u001b[0;34m\u001b[0m\u001b[0;34m\u001b[0m\u001b[0m\n\u001b[1;32m   1137\u001b[0m             \u001b[0;32mif\u001b[0m \u001b[0mengine\u001b[0m \u001b[0;34m==\u001b[0m \u001b[0;34m\"python\"\u001b[0m\u001b[0;34m:\u001b[0m\u001b[0;34m\u001b[0m\u001b[0;34m\u001b[0m\u001b[0m\n",
            "\u001b[0;32m/usr/local/lib/python3.6/dist-packages/pandas/io/parsers.py\u001b[0m in \u001b[0;36m__init__\u001b[0;34m(self, src, **kwds)\u001b[0m\n\u001b[1;32m   1915\u001b[0m         \u001b[0mkwds\u001b[0m\u001b[0;34m[\u001b[0m\u001b[0;34m\"usecols\"\u001b[0m\u001b[0;34m]\u001b[0m \u001b[0;34m=\u001b[0m \u001b[0mself\u001b[0m\u001b[0;34m.\u001b[0m\u001b[0musecols\u001b[0m\u001b[0;34m\u001b[0m\u001b[0;34m\u001b[0m\u001b[0m\n\u001b[1;32m   1916\u001b[0m \u001b[0;34m\u001b[0m\u001b[0m\n\u001b[0;32m-> 1917\u001b[0;31m         \u001b[0mself\u001b[0m\u001b[0;34m.\u001b[0m\u001b[0m_reader\u001b[0m \u001b[0;34m=\u001b[0m \u001b[0mparsers\u001b[0m\u001b[0;34m.\u001b[0m\u001b[0mTextReader\u001b[0m\u001b[0;34m(\u001b[0m\u001b[0msrc\u001b[0m\u001b[0;34m,\u001b[0m \u001b[0;34m**\u001b[0m\u001b[0mkwds\u001b[0m\u001b[0;34m)\u001b[0m\u001b[0;34m\u001b[0m\u001b[0;34m\u001b[0m\u001b[0m\n\u001b[0m\u001b[1;32m   1918\u001b[0m         \u001b[0mself\u001b[0m\u001b[0;34m.\u001b[0m\u001b[0munnamed_cols\u001b[0m \u001b[0;34m=\u001b[0m \u001b[0mself\u001b[0m\u001b[0;34m.\u001b[0m\u001b[0m_reader\u001b[0m\u001b[0;34m.\u001b[0m\u001b[0munnamed_cols\u001b[0m\u001b[0;34m\u001b[0m\u001b[0;34m\u001b[0m\u001b[0m\n\u001b[1;32m   1919\u001b[0m \u001b[0;34m\u001b[0m\u001b[0m\n",
            "\u001b[0;32mpandas/_libs/parsers.pyx\u001b[0m in \u001b[0;36mpandas._libs.parsers.TextReader.__cinit__\u001b[0;34m()\u001b[0m\n",
            "\u001b[0;32mpandas/_libs/parsers.pyx\u001b[0m in \u001b[0;36mpandas._libs.parsers.TextReader._setup_parser_source\u001b[0;34m()\u001b[0m\n",
            "\u001b[0;31mFileNotFoundError\u001b[0m: [Errno 2] File b'ITSM_data.csv' does not exist: b'ITSM_data.csv'"
          ]
        }
      ]
    },
    {
      "cell_type": "code",
      "metadata": {
        "id": "VP9JscL3cG_L",
        "outputId": "b57f24ce-a0e2-49f3-ebac-c95f3ac976a8"
      },
      "source": [
        "data.head(2)"
      ],
      "execution_count": null,
      "outputs": [
        {
          "output_type": "execute_result",
          "data": {
            "text/html": [
              "<div>\n",
              "<style scoped>\n",
              "    .dataframe tbody tr th:only-of-type {\n",
              "        vertical-align: middle;\n",
              "    }\n",
              "\n",
              "    .dataframe tbody tr th {\n",
              "        vertical-align: top;\n",
              "    }\n",
              "\n",
              "    .dataframe thead th {\n",
              "        text-align: right;\n",
              "    }\n",
              "</style>\n",
              "<table border=\"1\" class=\"dataframe\">\n",
              "  <thead>\n",
              "    <tr style=\"text-align: right;\">\n",
              "      <th></th>\n",
              "      <th>CI_Name</th>\n",
              "      <th>CI_Cat</th>\n",
              "      <th>CI_Subcat</th>\n",
              "      <th>WBS</th>\n",
              "      <th>Incident_ID</th>\n",
              "      <th>Status</th>\n",
              "      <th>Impact</th>\n",
              "      <th>Urgency</th>\n",
              "      <th>Priority</th>\n",
              "      <th>Unnamed: 9</th>\n",
              "      <th>...</th>\n",
              "      <th>Reopen_Time</th>\n",
              "      <th>Resolved_Time</th>\n",
              "      <th>Close_Time</th>\n",
              "      <th>Handle_Time_hrs</th>\n",
              "      <th>Closure_Code</th>\n",
              "      <th>No_of_Related_Interactions</th>\n",
              "      <th>Related_Interaction</th>\n",
              "      <th>No_of_Related_Incidents</th>\n",
              "      <th>No_of_Related_Changes</th>\n",
              "      <th>Related_Change</th>\n",
              "    </tr>\n",
              "  </thead>\n",
              "  <tbody>\n",
              "    <tr>\n",
              "      <th>0</th>\n",
              "      <td>SUB000508</td>\n",
              "      <td>subapplication</td>\n",
              "      <td>Web Based Application</td>\n",
              "      <td>WBS000162</td>\n",
              "      <td>IM0000004</td>\n",
              "      <td>Closed</td>\n",
              "      <td>4</td>\n",
              "      <td>4</td>\n",
              "      <td>4.0</td>\n",
              "      <td>0.820967</td>\n",
              "      <td>...</td>\n",
              "      <td>NaT</td>\n",
              "      <td>2013-04-11 13:50:27</td>\n",
              "      <td>2013-04-11 13:51:17</td>\n",
              "      <td>3871,691111</td>\n",
              "      <td>Other</td>\n",
              "      <td>1.0</td>\n",
              "      <td>SD0000007</td>\n",
              "      <td>2.0</td>\n",
              "      <td>NaN</td>\n",
              "      <td>NaN</td>\n",
              "    </tr>\n",
              "    <tr>\n",
              "      <th>1</th>\n",
              "      <td>WBA000124</td>\n",
              "      <td>application</td>\n",
              "      <td>Web Based Application</td>\n",
              "      <td>WBS000088</td>\n",
              "      <td>IM0000005</td>\n",
              "      <td>Closed</td>\n",
              "      <td>3</td>\n",
              "      <td>3</td>\n",
              "      <td>3.0</td>\n",
              "      <td>0.936566</td>\n",
              "      <td>...</td>\n",
              "      <td>2013-02-12 12:31:02</td>\n",
              "      <td>2013-02-12 12:36:21</td>\n",
              "      <td>2013-02-12 12:36:25</td>\n",
              "      <td>4354,786389</td>\n",
              "      <td>Software</td>\n",
              "      <td>1.0</td>\n",
              "      <td>SD0000011</td>\n",
              "      <td>1.0</td>\n",
              "      <td>NaN</td>\n",
              "      <td>NaN</td>\n",
              "    </tr>\n",
              "  </tbody>\n",
              "</table>\n",
              "<p>2 rows × 26 columns</p>\n",
              "</div>"
            ],
            "text/plain": [
              "     CI_Name          CI_Cat              CI_Subcat        WBS Incident_ID  \\\n",
              "0  SUB000508  subapplication  Web Based Application  WBS000162   IM0000004   \n",
              "1  WBA000124     application  Web Based Application  WBS000088   IM0000005   \n",
              "\n",
              "   Status Impact Urgency  Priority  Unnamed: 9  ...         Reopen_Time  \\\n",
              "0  Closed      4       4       4.0    0.820967  ...                 NaT   \n",
              "1  Closed      3       3       3.0    0.936566  ... 2013-02-12 12:31:02   \n",
              "\n",
              "        Resolved_Time          Close_Time  Handle_Time_hrs  Closure_Code  \\\n",
              "0 2013-04-11 13:50:27 2013-04-11 13:51:17      3871,691111         Other   \n",
              "1 2013-02-12 12:36:21 2013-02-12 12:36:25      4354,786389      Software   \n",
              "\n",
              "  No_of_Related_Interactions Related_Interaction No_of_Related_Incidents  \\\n",
              "0                        1.0           SD0000007                     2.0   \n",
              "1                        1.0           SD0000011                     1.0   \n",
              "\n",
              "  No_of_Related_Changes Related_Change  \n",
              "0                   NaN            NaN  \n",
              "1                   NaN            NaN  \n",
              "\n",
              "[2 rows x 26 columns]"
            ]
          },
          "metadata": {
            "tags": []
          },
          "execution_count": 5
        }
      ]
    },
    {
      "cell_type": "code",
      "metadata": {
        "id": "mElwat9XcG_b",
        "outputId": "4fc34983-7a4a-413b-e4db-9e98e3dac404"
      },
      "source": [
        "data.info()"
      ],
      "execution_count": null,
      "outputs": [
        {
          "output_type": "stream",
          "text": [
            "<class 'pandas.core.frame.DataFrame'>\n",
            "RangeIndex: 46606 entries, 0 to 46605\n",
            "Data columns (total 26 columns):\n",
            "CI_Name                       46606 non-null object\n",
            "CI_Cat                        46495 non-null object\n",
            "CI_Subcat                     46495 non-null object\n",
            "WBS                           46606 non-null object\n",
            "Incident_ID                   46606 non-null object\n",
            "Status                        46606 non-null object\n",
            "Impact                        46606 non-null object\n",
            "Urgency                       46606 non-null object\n",
            "Priority                      45226 non-null float64\n",
            "Unnamed: 9                    46606 non-null float64\n",
            "Category                      46606 non-null object\n",
            "KB_number                     46606 non-null object\n",
            "Alert_Status                  46606 non-null object\n",
            "No_of_Reassignments           46605 non-null float64\n",
            "Unnamed: 14                   46606 non-null int64\n",
            "Open_Time                     46606 non-null datetime64[ns]\n",
            "Reopen_Time                   2284 non-null datetime64[ns]\n",
            "Resolved_Time                 44826 non-null datetime64[ns]\n",
            "Close_Time                    46606 non-null datetime64[ns]\n",
            "Handle_Time_hrs               46605 non-null object\n",
            "Closure_Code                  46146 non-null object\n",
            "No_of_Related_Interactions    46492 non-null float64\n",
            "Related_Interaction           46606 non-null object\n",
            "No_of_Related_Incidents       1222 non-null float64\n",
            "No_of_Related_Changes         560 non-null float64\n",
            "Related_Change                560 non-null object\n",
            "dtypes: datetime64[ns](4), float64(6), int64(1), object(15)\n",
            "memory usage: 9.2+ MB\n"
          ],
          "name": "stdout"
        }
      ]
    },
    {
      "cell_type": "code",
      "metadata": {
        "id": "4bIzoeQicG_n",
        "outputId": "575fa7c4-7740-4746-b4ce-a9b1d8729345"
      },
      "source": [
        "Counter(data.No_of_Reassignments).most_common(20)"
      ],
      "execution_count": null,
      "outputs": [
        {
          "output_type": "execute_result",
          "data": {
            "text/plain": [
              "[(0.0, 27468),\n",
              " (1.0, 7268),\n",
              " (2.0, 5378),\n",
              " (3.0, 2191),\n",
              " (4.0, 1606),\n",
              " (5.0, 721),\n",
              " (6.0, 622),\n",
              " (7.0, 329),\n",
              " (8.0, 246),\n",
              " (9.0, 170),\n",
              " (10.0, 146),\n",
              " (11.0, 101),\n",
              " (13.0, 61),\n",
              " (12.0, 58),\n",
              " (14.0, 47),\n",
              " (15.0, 43),\n",
              " (17.0, 27),\n",
              " (16.0, 25),\n",
              " (18.0, 14),\n",
              " (21.0, 11)]"
            ]
          },
          "metadata": {
            "tags": []
          },
          "execution_count": 7
        }
      ]
    },
    {
      "cell_type": "code",
      "metadata": {
        "id": "rGVJ0-ZFcG_z",
        "outputId": "dcd4fe7d-1dcd-4399-98af-ad32f98108b5"
      },
      "source": [
        "data.No_of_Reassignments[2].dtype"
      ],
      "execution_count": null,
      "outputs": [
        {
          "output_type": "execute_result",
          "data": {
            "text/plain": [
              "dtype('float64')"
            ]
          },
          "metadata": {
            "tags": []
          },
          "execution_count": 8
        }
      ]
    },
    {
      "cell_type": "code",
      "metadata": {
        "id": "RjkfOC1AcG_-"
      },
      "source": [
        "data.loc[data.No_of_Reassignments>3.0,'reassignment'] ='high'\n",
        "data.loc[data.No_of_Reassignments<=3.0,'reassignment'] ='low'"
      ],
      "execution_count": null,
      "outputs": []
    },
    {
      "cell_type": "code",
      "metadata": {
        "id": "2i8HtzO1cHAG",
        "outputId": "c0d79987-9561-4e18-f1c4-b06103c11f0a"
      },
      "source": [
        "data.head()"
      ],
      "execution_count": null,
      "outputs": [
        {
          "output_type": "execute_result",
          "data": {
            "text/html": [
              "<div>\n",
              "<style scoped>\n",
              "    .dataframe tbody tr th:only-of-type {\n",
              "        vertical-align: middle;\n",
              "    }\n",
              "\n",
              "    .dataframe tbody tr th {\n",
              "        vertical-align: top;\n",
              "    }\n",
              "\n",
              "    .dataframe thead th {\n",
              "        text-align: right;\n",
              "    }\n",
              "</style>\n",
              "<table border=\"1\" class=\"dataframe\">\n",
              "  <thead>\n",
              "    <tr style=\"text-align: right;\">\n",
              "      <th></th>\n",
              "      <th>CI_Name</th>\n",
              "      <th>CI_Cat</th>\n",
              "      <th>CI_Subcat</th>\n",
              "      <th>WBS</th>\n",
              "      <th>Incident_ID</th>\n",
              "      <th>Status</th>\n",
              "      <th>Impact</th>\n",
              "      <th>Urgency</th>\n",
              "      <th>Priority</th>\n",
              "      <th>Unnamed: 9</th>\n",
              "      <th>...</th>\n",
              "      <th>Resolved_Time</th>\n",
              "      <th>Close_Time</th>\n",
              "      <th>Handle_Time_hrs</th>\n",
              "      <th>Closure_Code</th>\n",
              "      <th>No_of_Related_Interactions</th>\n",
              "      <th>Related_Interaction</th>\n",
              "      <th>No_of_Related_Incidents</th>\n",
              "      <th>No_of_Related_Changes</th>\n",
              "      <th>Related_Change</th>\n",
              "      <th>reassignment</th>\n",
              "    </tr>\n",
              "  </thead>\n",
              "  <tbody>\n",
              "    <tr>\n",
              "      <th>0</th>\n",
              "      <td>SUB000508</td>\n",
              "      <td>subapplication</td>\n",
              "      <td>Web Based Application</td>\n",
              "      <td>WBS000162</td>\n",
              "      <td>IM0000004</td>\n",
              "      <td>Closed</td>\n",
              "      <td>4</td>\n",
              "      <td>4</td>\n",
              "      <td>4.0</td>\n",
              "      <td>0.820967</td>\n",
              "      <td>...</td>\n",
              "      <td>2013-04-11 13:50:27</td>\n",
              "      <td>2013-04-11 13:51:17</td>\n",
              "      <td>3871,691111</td>\n",
              "      <td>Other</td>\n",
              "      <td>1.0</td>\n",
              "      <td>SD0000007</td>\n",
              "      <td>2.0</td>\n",
              "      <td>NaN</td>\n",
              "      <td>NaN</td>\n",
              "      <td>high</td>\n",
              "    </tr>\n",
              "    <tr>\n",
              "      <th>1</th>\n",
              "      <td>WBA000124</td>\n",
              "      <td>application</td>\n",
              "      <td>Web Based Application</td>\n",
              "      <td>WBS000088</td>\n",
              "      <td>IM0000005</td>\n",
              "      <td>Closed</td>\n",
              "      <td>3</td>\n",
              "      <td>3</td>\n",
              "      <td>3.0</td>\n",
              "      <td>0.936566</td>\n",
              "      <td>...</td>\n",
              "      <td>2013-02-12 12:36:21</td>\n",
              "      <td>2013-02-12 12:36:25</td>\n",
              "      <td>4354,786389</td>\n",
              "      <td>Software</td>\n",
              "      <td>1.0</td>\n",
              "      <td>SD0000011</td>\n",
              "      <td>1.0</td>\n",
              "      <td>NaN</td>\n",
              "      <td>NaN</td>\n",
              "      <td>high</td>\n",
              "    </tr>\n",
              "    <tr>\n",
              "      <th>2</th>\n",
              "      <td>DTA000024</td>\n",
              "      <td>application</td>\n",
              "      <td>Desktop Application</td>\n",
              "      <td>WBS000092</td>\n",
              "      <td>IM0000006</td>\n",
              "      <td>Closed</td>\n",
              "      <td>NS</td>\n",
              "      <td>3</td>\n",
              "      <td>NaN</td>\n",
              "      <td>0.069016</td>\n",
              "      <td>...</td>\n",
              "      <td>2014-01-13 15:12:38</td>\n",
              "      <td>2014-01-13 15:13:11</td>\n",
              "      <td>4843,119444</td>\n",
              "      <td>No error - works as designed</td>\n",
              "      <td>1.0</td>\n",
              "      <td>SD0000017</td>\n",
              "      <td>NaN</td>\n",
              "      <td>NaN</td>\n",
              "      <td>NaN</td>\n",
              "      <td>low</td>\n",
              "    </tr>\n",
              "    <tr>\n",
              "      <th>3</th>\n",
              "      <td>WBA000124</td>\n",
              "      <td>application</td>\n",
              "      <td>Web Based Application</td>\n",
              "      <td>WBS000088</td>\n",
              "      <td>IM0000011</td>\n",
              "      <td>Closed</td>\n",
              "      <td>4</td>\n",
              "      <td>4</td>\n",
              "      <td>4.0</td>\n",
              "      <td>0.936214</td>\n",
              "      <td>...</td>\n",
              "      <td>2013-11-14 09:31:09</td>\n",
              "      <td>2013-11-14 09:31:24</td>\n",
              "      <td>43,21833333</td>\n",
              "      <td>Operator error</td>\n",
              "      <td>1.0</td>\n",
              "      <td>SD0000025</td>\n",
              "      <td>NaN</td>\n",
              "      <td>NaN</td>\n",
              "      <td>NaN</td>\n",
              "      <td>high</td>\n",
              "    </tr>\n",
              "    <tr>\n",
              "      <th>4</th>\n",
              "      <td>WBA000124</td>\n",
              "      <td>application</td>\n",
              "      <td>Web Based Application</td>\n",
              "      <td>WBS000088</td>\n",
              "      <td>IM0000012</td>\n",
              "      <td>Closed</td>\n",
              "      <td>4</td>\n",
              "      <td>4</td>\n",
              "      <td>4.0</td>\n",
              "      <td>0.062957</td>\n",
              "      <td>...</td>\n",
              "      <td>2013-08-11 13:55:49</td>\n",
              "      <td>2013-08-11 13:55:52</td>\n",
              "      <td>3383,903333</td>\n",
              "      <td>Other</td>\n",
              "      <td>1.0</td>\n",
              "      <td>SD0000029</td>\n",
              "      <td>NaN</td>\n",
              "      <td>NaN</td>\n",
              "      <td>NaN</td>\n",
              "      <td>low</td>\n",
              "    </tr>\n",
              "  </tbody>\n",
              "</table>\n",
              "<p>5 rows × 27 columns</p>\n",
              "</div>"
            ],
            "text/plain": [
              "     CI_Name          CI_Cat              CI_Subcat        WBS Incident_ID  \\\n",
              "0  SUB000508  subapplication  Web Based Application  WBS000162   IM0000004   \n",
              "1  WBA000124     application  Web Based Application  WBS000088   IM0000005   \n",
              "2  DTA000024     application    Desktop Application  WBS000092   IM0000006   \n",
              "3  WBA000124     application  Web Based Application  WBS000088   IM0000011   \n",
              "4  WBA000124     application  Web Based Application  WBS000088   IM0000012   \n",
              "\n",
              "   Status Impact Urgency  Priority  Unnamed: 9  ...       Resolved_Time  \\\n",
              "0  Closed      4       4       4.0    0.820967  ... 2013-04-11 13:50:27   \n",
              "1  Closed      3       3       3.0    0.936566  ... 2013-02-12 12:36:21   \n",
              "2  Closed     NS       3       NaN    0.069016  ... 2014-01-13 15:12:38   \n",
              "3  Closed      4       4       4.0    0.936214  ... 2013-11-14 09:31:09   \n",
              "4  Closed      4       4       4.0    0.062957  ... 2013-08-11 13:55:49   \n",
              "\n",
              "           Close_Time Handle_Time_hrs                  Closure_Code  \\\n",
              "0 2013-04-11 13:51:17     3871,691111                         Other   \n",
              "1 2013-02-12 12:36:25     4354,786389                      Software   \n",
              "2 2014-01-13 15:13:11     4843,119444  No error - works as designed   \n",
              "3 2013-11-14 09:31:24     43,21833333                Operator error   \n",
              "4 2013-08-11 13:55:52     3383,903333                         Other   \n",
              "\n",
              "   No_of_Related_Interactions Related_Interaction No_of_Related_Incidents  \\\n",
              "0                         1.0           SD0000007                     2.0   \n",
              "1                         1.0           SD0000011                     1.0   \n",
              "2                         1.0           SD0000017                     NaN   \n",
              "3                         1.0           SD0000025                     NaN   \n",
              "4                         1.0           SD0000029                     NaN   \n",
              "\n",
              "  No_of_Related_Changes Related_Change reassignment  \n",
              "0                   NaN            NaN         high  \n",
              "1                   NaN            NaN         high  \n",
              "2                   NaN            NaN          low  \n",
              "3                   NaN            NaN         high  \n",
              "4                   NaN            NaN          low  \n",
              "\n",
              "[5 rows x 27 columns]"
            ]
          },
          "metadata": {
            "tags": []
          },
          "execution_count": 10
        }
      ]
    },
    {
      "cell_type": "code",
      "metadata": {
        "id": "kZDxLzDFcHAR",
        "outputId": "7c97a4b6-2e4a-4ec5-a6b3-46a4d8e5dd39"
      },
      "source": [
        "Counter(data.reassignment)"
      ],
      "execution_count": null,
      "outputs": [
        {
          "output_type": "execute_result",
          "data": {
            "text/plain": [
              "Counter({'high': 4300, 'low': 42305, nan: 1})"
            ]
          },
          "metadata": {
            "tags": []
          },
          "execution_count": 11
        }
      ]
    },
    {
      "cell_type": "code",
      "metadata": {
        "id": "ee9iRP9_cHAb"
      },
      "source": [
        "data = data[data.reassignment.isnull()==False]"
      ],
      "execution_count": null,
      "outputs": []
    },
    {
      "cell_type": "code",
      "metadata": {
        "id": "WEU6pZlJcHAl",
        "outputId": "da928770-895f-4185-db3a-4d2dadf81d55"
      },
      "source": [
        "Counter(data.reassignment)"
      ],
      "execution_count": null,
      "outputs": [
        {
          "output_type": "execute_result",
          "data": {
            "text/plain": [
              "Counter({'high': 4300, 'low': 42305})"
            ]
          },
          "metadata": {
            "tags": []
          },
          "execution_count": 13
        }
      ]
    },
    {
      "cell_type": "code",
      "metadata": {
        "id": "HUJ8eqaJcHAx"
      },
      "source": [
        "selected = data.loc[:,['CI_Cat','CI_Subcat','WBS','Category','reassignment']]\n",
        "selected.dropna(inplace=True)"
      ],
      "execution_count": null,
      "outputs": []
    },
    {
      "cell_type": "code",
      "metadata": {
        "id": "ycQiCip6cHA4",
        "outputId": "5bd7b68a-59c4-4dc1-c0f1-806eeb5289c0"
      },
      "source": [
        "selected.info()"
      ],
      "execution_count": null,
      "outputs": [
        {
          "output_type": "stream",
          "text": [
            "<class 'pandas.core.frame.DataFrame'>\n",
            "Int64Index: 46494 entries, 0 to 46605\n",
            "Data columns (total 5 columns):\n",
            "CI_Cat          46494 non-null object\n",
            "CI_Subcat       46494 non-null object\n",
            "WBS             46494 non-null object\n",
            "Category        46494 non-null object\n",
            "reassignment    46494 non-null object\n",
            "dtypes: object(5)\n",
            "memory usage: 2.1+ MB\n"
          ],
          "name": "stdout"
        }
      ]
    },
    {
      "cell_type": "code",
      "metadata": {
        "id": "Qbcno8TVcHBD"
      },
      "source": [
        "X = selected.loc[:,['CI_Cat','CI_Subcat','WBS','Category']]\n",
        "y = selected.reassignment\n"
      ],
      "execution_count": null,
      "outputs": []
    },
    {
      "cell_type": "code",
      "metadata": {
        "id": "InjrVQ2XcHBK"
      },
      "source": [
        "from sklearn.preprocessing import LabelEncoder\n",
        "from sklearn.model_selection import train_test_split"
      ],
      "execution_count": null,
      "outputs": []
    },
    {
      "cell_type": "code",
      "metadata": {
        "id": "qHamB0sacHBS"
      },
      "source": [
        "enc = LabelEncoder()\n",
        "X.CI_Cat = enc.fit_transform(X.CI_Cat)\n",
        "X.CI_Subcat = enc.fit_transform(X.CI_Subcat)\n",
        "X.WBS = enc.fit_transform(X.WBS)\n",
        "X.Category = enc.fit_transform(X.Category)"
      ],
      "execution_count": null,
      "outputs": []
    },
    {
      "cell_type": "code",
      "metadata": {
        "id": "qb20ru17cHBY",
        "outputId": "b72d29ac-fcc4-45f3-a28c-69878d97a797"
      },
      "source": [
        "X.shape"
      ],
      "execution_count": null,
      "outputs": [
        {
          "output_type": "execute_result",
          "data": {
            "text/plain": [
              "(46494, 4)"
            ]
          },
          "metadata": {
            "tags": []
          },
          "execution_count": 19
        }
      ]
    },
    {
      "cell_type": "code",
      "metadata": {
        "id": "gELMxtL1cHBg"
      },
      "source": [
        "X_train, X_test, y_train, y_test = train_test_split(X, y,stratify=y,random_state=0)\n"
      ],
      "execution_count": null,
      "outputs": []
    },
    {
      "cell_type": "code",
      "metadata": {
        "id": "08RSH1yScHBm"
      },
      "source": [
        "from sklearn.ensemble import RandomForestClassifier\n",
        "model = RandomForestClassifier()"
      ],
      "execution_count": null,
      "outputs": []
    },
    {
      "cell_type": "code",
      "metadata": {
        "id": "YQo6GpURcHBv"
      },
      "source": [
        "X_train = X_train.astype('float')"
      ],
      "execution_count": null,
      "outputs": []
    },
    {
      "cell_type": "code",
      "metadata": {
        "id": "bP0V3R55cHB1"
      },
      "source": [
        "from imblearn.over_sampling import SMOTE\n",
        "smote = SMOTE()\n",
        "X_train_smote, y_train_smote = smote.fit_sample(X_train,y_train)"
      ],
      "execution_count": null,
      "outputs": []
    },
    {
      "cell_type": "code",
      "metadata": {
        "id": "4VpAHJZ0cHB9",
        "outputId": "60f92e44-5c93-47f1-cea8-1b8511cf0003"
      },
      "source": [
        "model=RandomForestClassifier()\n",
        "model.fit(X_train_smote,y_train_smote)\n",
        "y_pred = model.predict(X_test)\n",
        "from sklearn.metrics import confusion_matrix,accuracy_score,classification_report\n",
        "print(confusion_matrix(y_test,y_pred))\n",
        "print(accuracy_score(y_test,y_pred))\n",
        "print(classification_report(y_test,y_pred))"
      ],
      "execution_count": null,
      "outputs": [
        {
          "output_type": "stream",
          "text": [
            "/Users/ashokveda/anaconda3/lib/python3.7/site-packages/sklearn/ensemble/forest.py:245: FutureWarning: The default value of n_estimators will change from 10 in version 0.20 to 100 in 0.22.\n",
            "  \"10 in version 0.20 to 100 in 0.22.\", FutureWarning)\n"
          ],
          "name": "stderr"
        },
        {
          "output_type": "stream",
          "text": [
            "[[ 676  397]\n",
            " [2733 7818]]\n",
            "0.7307295251204404\n",
            "              precision    recall  f1-score   support\n",
            "\n",
            "        high       0.20      0.63      0.30      1073\n",
            "         low       0.95      0.74      0.83     10551\n",
            "\n",
            "    accuracy                           0.73     11624\n",
            "   macro avg       0.57      0.69      0.57     11624\n",
            "weighted avg       0.88      0.73      0.78     11624\n",
            "\n"
          ],
          "name": "stdout"
        }
      ]
    },
    {
      "cell_type": "markdown",
      "metadata": {
        "id": "KFWY1uqvcHCG"
      },
      "source": [
        "### Trying one hot encoding for better efficiency"
      ]
    },
    {
      "cell_type": "code",
      "metadata": {
        "id": "oKt_cejNcHCI"
      },
      "source": [
        "selected = data.loc[:,['CI_Cat','CI_Subcat','WBS','Category','reassignment']]\n",
        "selected.dropna(inplace=True)\n",
        "X = selected.loc[:,['CI_Cat','CI_Subcat','WBS','Category']]\n",
        "y = selected.reassignment\n",
        "X = pd.get_dummies(X)"
      ],
      "execution_count": null,
      "outputs": []
    },
    {
      "cell_type": "code",
      "metadata": {
        "id": "xD_CT25ScHCO",
        "outputId": "00df7ff3-e41f-4d80-fc41-cacd4560b71d"
      },
      "source": [
        "X.shape"
      ],
      "execution_count": null,
      "outputs": [
        {
          "output_type": "execute_result",
          "data": {
            "text/plain": [
              "(46494, 351)"
            ]
          },
          "metadata": {
            "tags": []
          },
          "execution_count": 25
        }
      ]
    },
    {
      "cell_type": "code",
      "metadata": {
        "id": "vmc_rWZKcHCa"
      },
      "source": [
        "X_train, X_test, y_train, y_test = train_test_split(X, y,stratify=y,random_state=0)\n",
        "from sklearn.ensemble import RandomForestClassifier\n",
        "model = RandomForestClassifier()"
      ],
      "execution_count": null,
      "outputs": []
    },
    {
      "cell_type": "code",
      "metadata": {
        "id": "D8oFZx7scHCf",
        "outputId": "4dff98d6-7eff-4a7e-e5e9-d1b00ce9bd03"
      },
      "source": [
        "model=RandomForestClassifier()\n",
        "model.fit(X_train,y_train)\n",
        "y_pred = model.predict(X_test)\n",
        "from sklearn.metrics import confusion_matrix,accuracy_score\n",
        "print(confusion_matrix(y_test,y_pred))\n",
        "accuracy_score(y_test,y_pred)"
      ],
      "execution_count": null,
      "outputs": [
        {
          "output_type": "stream",
          "text": [
            "[[   7  666    0]\n",
            " [   3 9987   14]\n",
            " [   3  939    5]]\n"
          ],
          "name": "stdout"
        },
        {
          "output_type": "execute_result",
          "data": {
            "text/plain": [
              "0.86020302821748107"
            ]
          },
          "metadata": {
            "tags": []
          },
          "execution_count": 27
        }
      ]
    },
    {
      "cell_type": "markdown",
      "metadata": {
        "id": "9pFuLNVGcHCo"
      },
      "source": [
        "[link text](https://)#### Not much improvement through one hot encoding"
      ]
    },
    {
      "cell_type": "code",
      "metadata": {
        "id": "C4IFLW1TcHCp"
      },
      "source": [],
      "execution_count": null,
      "outputs": []
    }
  ]
}