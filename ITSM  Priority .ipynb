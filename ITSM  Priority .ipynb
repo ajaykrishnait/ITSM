{
  "nbformat": 4,
  "nbformat_minor": 0,
  "metadata": {
    "colab": {
      "name": " ITSM - Priority.ipynb",
      "provenance": [],
      "collapsed_sections": []
    },
    "kernelspec": {
      "name": "python3",
      "display_name": "Python 3"
    }
  },
  "cells": [
    {
      "cell_type": "code",
      "metadata": {
        "id": "WcIMMg5VO4UY",
        "colab_type": "code",
        "outputId": "2e632717-82ae-4e17-94a7-8a268d41f648",
        "colab": {
          "base_uri": "https://localhost:8080/",
          "height": 73
        }
      },
      "source": [
        "ITSM_df = pd.read_csv(io.StringIO(uploaded['ITSM_data - ITSM_data (2).csv'].decode('utf-8')))"
      ],
      "execution_count": 0,
      "outputs": [
        {
          "output_type": "stream",
          "text": [
            "/usr/local/lib/python3.6/dist-packages/IPython/core/interactiveshell.py:2718: DtypeWarning: Columns (8) have mixed types. Specify dtype option on import or set low_memory=False.\n",
            "  interactivity=interactivity, compiler=compiler, result=result)\n"
          ],
          "name": "stderr"
        }
      ]
    },
    {
      "cell_type": "code",
      "metadata": {
        "id": "x1Q6ptk0yCP5",
        "colab_type": "code",
        "outputId": "b741d3a6-afe4-4580-9ec3-ec7fec6285d2",
        "colab": {
          "base_uri": "https://localhost:8080/",
          "height": 330
        }
      },
      "source": [
        "ITSM_df.head()"
      ],
      "execution_count": 0,
      "outputs": [
        {
          "output_type": "execute_result",
          "data": {
            "text/html": [
              "<div>\n",
              "<style scoped>\n",
              "    .dataframe tbody tr th:only-of-type {\n",
              "        vertical-align: middle;\n",
              "    }\n",
              "\n",
              "    .dataframe tbody tr th {\n",
              "        vertical-align: top;\n",
              "    }\n",
              "\n",
              "    .dataframe thead th {\n",
              "        text-align: right;\n",
              "    }\n",
              "</style>\n",
              "<table border=\"1\" class=\"dataframe\">\n",
              "  <thead>\n",
              "    <tr style=\"text-align: right;\">\n",
              "      <th></th>\n",
              "      <th>Unnamed: 0</th>\n",
              "      <th>CI_Name</th>\n",
              "      <th>CI_Cat</th>\n",
              "      <th>CI_Subcat</th>\n",
              "      <th>WBS</th>\n",
              "      <th>Incident_ID</th>\n",
              "      <th>Status</th>\n",
              "      <th>Impact</th>\n",
              "      <th>Urgency</th>\n",
              "      <th>Priority</th>\n",
              "      <th>number_cnt</th>\n",
              "      <th>Category</th>\n",
              "      <th>KB_number</th>\n",
              "      <th>Alert_Status</th>\n",
              "      <th>No_of_Reassignments</th>\n",
              "      <th>Open_Time</th>\n",
              "      <th>Reopen_Time</th>\n",
              "      <th>Resolved_Time</th>\n",
              "      <th>Close_Time</th>\n",
              "      <th>Handle_Time_hrs</th>\n",
              "      <th>Closure_Code</th>\n",
              "      <th>No_of_Related_Interactions</th>\n",
              "      <th>Related_Interaction</th>\n",
              "      <th>No_of_Related_Incidents</th>\n",
              "      <th>No_of_Related_Changes</th>\n",
              "      <th>Related_Change</th>\n",
              "    </tr>\n",
              "  </thead>\n",
              "  <tbody>\n",
              "    <tr>\n",
              "      <th>0</th>\n",
              "      <td>0</td>\n",
              "      <td>SUB000508</td>\n",
              "      <td>subapplication</td>\n",
              "      <td>Web Based Application</td>\n",
              "      <td>WBS000162</td>\n",
              "      <td>IM0000004</td>\n",
              "      <td>Closed</td>\n",
              "      <td>4</td>\n",
              "      <td>4</td>\n",
              "      <td>4.0</td>\n",
              "      <td>0.601292</td>\n",
              "      <td>incident</td>\n",
              "      <td>KM0000553</td>\n",
              "      <td>closed</td>\n",
              "      <td>26.0</td>\n",
              "      <td>05-02-2012 13:32</td>\n",
              "      <td>NaN</td>\n",
              "      <td>04-11-2013 13:50</td>\n",
              "      <td>04-11-2013 13:51</td>\n",
              "      <td>3,87,16,91,111</td>\n",
              "      <td>Other</td>\n",
              "      <td>1.0</td>\n",
              "      <td>SD0000007</td>\n",
              "      <td>2.0</td>\n",
              "      <td>NaN</td>\n",
              "      <td>NaN</td>\n",
              "    </tr>\n",
              "    <tr>\n",
              "      <th>1</th>\n",
              "      <td>1</td>\n",
              "      <td>WBA000124</td>\n",
              "      <td>application</td>\n",
              "      <td>Web Based Application</td>\n",
              "      <td>WBS000088</td>\n",
              "      <td>IM0000005</td>\n",
              "      <td>Closed</td>\n",
              "      <td>3</td>\n",
              "      <td>3</td>\n",
              "      <td>3.0</td>\n",
              "      <td>0.415050</td>\n",
              "      <td>incident</td>\n",
              "      <td>KM0000611</td>\n",
              "      <td>closed</td>\n",
              "      <td>33.0</td>\n",
              "      <td>12-03-2012 15:44</td>\n",
              "      <td>02-12-2013 12:31</td>\n",
              "      <td>02-12-2013 12:36</td>\n",
              "      <td>02-12-2013 12:36</td>\n",
              "      <td>4,35,47,86,389</td>\n",
              "      <td>Software</td>\n",
              "      <td>1.0</td>\n",
              "      <td>SD0000011</td>\n",
              "      <td>1.0</td>\n",
              "      <td>NaN</td>\n",
              "      <td>NaN</td>\n",
              "    </tr>\n",
              "    <tr>\n",
              "      <th>2</th>\n",
              "      <td>2</td>\n",
              "      <td>DTA000024</td>\n",
              "      <td>application</td>\n",
              "      <td>Desktop Application</td>\n",
              "      <td>WBS000092</td>\n",
              "      <td>IM0000006</td>\n",
              "      <td>Closed</td>\n",
              "      <td>NS</td>\n",
              "      <td>3</td>\n",
              "      <td>NaN</td>\n",
              "      <td>0.517551</td>\n",
              "      <td>request for information</td>\n",
              "      <td>KM0000339</td>\n",
              "      <td>closed</td>\n",
              "      <td>3.0</td>\n",
              "      <td>29-03-2012 12:36</td>\n",
              "      <td>NaN</td>\n",
              "      <td>13-01-2014 15:12</td>\n",
              "      <td>13-01-2014 15:13</td>\n",
              "      <td>4,84,31,19,444</td>\n",
              "      <td>No error - works as designed</td>\n",
              "      <td>1.0</td>\n",
              "      <td>SD0000017</td>\n",
              "      <td>NaN</td>\n",
              "      <td>NaN</td>\n",
              "      <td>NaN</td>\n",
              "    </tr>\n",
              "    <tr>\n",
              "      <th>3</th>\n",
              "      <td>3</td>\n",
              "      <td>WBA000124</td>\n",
              "      <td>application</td>\n",
              "      <td>Web Based Application</td>\n",
              "      <td>WBS000088</td>\n",
              "      <td>IM0000011</td>\n",
              "      <td>Closed</td>\n",
              "      <td>4</td>\n",
              "      <td>4</td>\n",
              "      <td>4.0</td>\n",
              "      <td>0.642927</td>\n",
              "      <td>incident</td>\n",
              "      <td>KM0000611</td>\n",
              "      <td>closed</td>\n",
              "      <td>13.0</td>\n",
              "      <td>17-07-2012 11:49</td>\n",
              "      <td>NaN</td>\n",
              "      <td>14-11-2013 09:31</td>\n",
              "      <td>14-11-2013 09:31</td>\n",
              "      <td>4,32,18,33,333</td>\n",
              "      <td>Operator error</td>\n",
              "      <td>1.0</td>\n",
              "      <td>SD0000025</td>\n",
              "      <td>NaN</td>\n",
              "      <td>NaN</td>\n",
              "      <td>NaN</td>\n",
              "    </tr>\n",
              "    <tr>\n",
              "      <th>4</th>\n",
              "      <td>4</td>\n",
              "      <td>WBA000124</td>\n",
              "      <td>application</td>\n",
              "      <td>Web Based Application</td>\n",
              "      <td>WBS000088</td>\n",
              "      <td>IM0000012</td>\n",
              "      <td>Closed</td>\n",
              "      <td>4</td>\n",
              "      <td>4</td>\n",
              "      <td>4.0</td>\n",
              "      <td>0.345258</td>\n",
              "      <td>incident</td>\n",
              "      <td>KM0000611</td>\n",
              "      <td>closed</td>\n",
              "      <td>2.0</td>\n",
              "      <td>10-08-2012 11:01</td>\n",
              "      <td>NaN</td>\n",
              "      <td>08-11-2013 13:55</td>\n",
              "      <td>08-11-2013 13:55</td>\n",
              "      <td>3,38,39,03,333</td>\n",
              "      <td>Other</td>\n",
              "      <td>1.0</td>\n",
              "      <td>SD0000029</td>\n",
              "      <td>NaN</td>\n",
              "      <td>NaN</td>\n",
              "      <td>NaN</td>\n",
              "    </tr>\n",
              "  </tbody>\n",
              "</table>\n",
              "</div>"
            ],
            "text/plain": [
              "   Unnamed: 0    CI_Name  ... No_of_Related_Changes Related_Change\n",
              "0           0  SUB000508  ...                   NaN            NaN\n",
              "1           1  WBA000124  ...                   NaN            NaN\n",
              "2           2  DTA000024  ...                   NaN            NaN\n",
              "3           3  WBA000124  ...                   NaN            NaN\n",
              "4           4  WBA000124  ...                   NaN            NaN\n",
              "\n",
              "[5 rows x 26 columns]"
            ]
          },
          "metadata": {
            "tags": []
          },
          "execution_count": 107
        }
      ]
    },
    {
      "cell_type": "code",
      "metadata": {
        "id": "2oK85pFVUAKW",
        "colab_type": "code",
        "colab": {}
      },
      "source": [
        "import datetime\n",
        "import pandas as pd\n",
        "import numpy as np\n",
        "from collections import Counter\n"
      ],
      "execution_count": 0,
      "outputs": []
    },
    {
      "cell_type": "code",
      "metadata": {
        "id": "nKz7_hzmj_Nu",
        "colab_type": "code",
        "outputId": "dd1551f3-f542-4d09-bbef-9d2590d2f9e9",
        "colab": {
          "base_uri": "https://localhost:8080/",
          "height": 90
        }
      },
      "source": [
        "Counter(ITSM_df.Category).most_common(5)"
      ],
      "execution_count": 0,
      "outputs": [
        {
          "output_type": "execute_result",
          "data": {
            "text/plain": [
              "[('incident', 37748),\n",
              " ('request for information', 8846),\n",
              " ('complaint', 11),\n",
              " ('request for change', 1)]"
            ]
          },
          "metadata": {
            "tags": []
          },
          "execution_count": 109
        }
      ]
    },
    {
      "cell_type": "code",
      "metadata": {
        "id": "wYaOzKq3kGA1",
        "colab_type": "code",
        "outputId": "528f8972-5a93-4d86-9813-a3773ed6c3d2",
        "colab": {
          "base_uri": "https://localhost:8080/",
          "height": 35
        }
      },
      "source": [
        "ITSM_df.Close_Time[3]"
      ],
      "execution_count": 0,
      "outputs": [
        {
          "output_type": "execute_result",
          "data": {
            "text/plain": [
              "'14-11-2013 09:31'"
            ]
          },
          "metadata": {
            "tags": []
          },
          "execution_count": 110
        }
      ]
    },
    {
      "cell_type": "code",
      "metadata": {
        "id": "Y9gT8RbskW7H",
        "colab_type": "code",
        "colab": {}
      },
      "source": [
        "ITSM_df1 = ITSM_df[ITSM_df.Priority.isnull()==False]"
      ],
      "execution_count": 0,
      "outputs": []
    },
    {
      "cell_type": "code",
      "metadata": {
        "id": "WTyViNHDHBz4",
        "colab_type": "code",
        "outputId": "bc241a6b-4e33-4f7a-ddea-bce41f54e5ff",
        "colab": {
          "base_uri": "https://localhost:8080/",
          "height": 330
        }
      },
      "source": [
        "ITSM_df1.head()"
      ],
      "execution_count": 0,
      "outputs": [
        {
          "output_type": "execute_result",
          "data": {
            "text/html": [
              "<div>\n",
              "<style scoped>\n",
              "    .dataframe tbody tr th:only-of-type {\n",
              "        vertical-align: middle;\n",
              "    }\n",
              "\n",
              "    .dataframe tbody tr th {\n",
              "        vertical-align: top;\n",
              "    }\n",
              "\n",
              "    .dataframe thead th {\n",
              "        text-align: right;\n",
              "    }\n",
              "</style>\n",
              "<table border=\"1\" class=\"dataframe\">\n",
              "  <thead>\n",
              "    <tr style=\"text-align: right;\">\n",
              "      <th></th>\n",
              "      <th>Unnamed: 0</th>\n",
              "      <th>CI_Name</th>\n",
              "      <th>CI_Cat</th>\n",
              "      <th>CI_Subcat</th>\n",
              "      <th>WBS</th>\n",
              "      <th>Incident_ID</th>\n",
              "      <th>Status</th>\n",
              "      <th>Impact</th>\n",
              "      <th>Urgency</th>\n",
              "      <th>Priority</th>\n",
              "      <th>number_cnt</th>\n",
              "      <th>Category</th>\n",
              "      <th>KB_number</th>\n",
              "      <th>Alert_Status</th>\n",
              "      <th>No_of_Reassignments</th>\n",
              "      <th>Open_Time</th>\n",
              "      <th>Reopen_Time</th>\n",
              "      <th>Resolved_Time</th>\n",
              "      <th>Close_Time</th>\n",
              "      <th>Handle_Time_hrs</th>\n",
              "      <th>Closure_Code</th>\n",
              "      <th>No_of_Related_Interactions</th>\n",
              "      <th>Related_Interaction</th>\n",
              "      <th>No_of_Related_Incidents</th>\n",
              "      <th>No_of_Related_Changes</th>\n",
              "      <th>Related_Change</th>\n",
              "    </tr>\n",
              "  </thead>\n",
              "  <tbody>\n",
              "    <tr>\n",
              "      <th>0</th>\n",
              "      <td>0</td>\n",
              "      <td>SUB000508</td>\n",
              "      <td>subapplication</td>\n",
              "      <td>Web Based Application</td>\n",
              "      <td>WBS000162</td>\n",
              "      <td>IM0000004</td>\n",
              "      <td>Closed</td>\n",
              "      <td>4</td>\n",
              "      <td>4</td>\n",
              "      <td>4.0</td>\n",
              "      <td>0.601292</td>\n",
              "      <td>incident</td>\n",
              "      <td>KM0000553</td>\n",
              "      <td>closed</td>\n",
              "      <td>26.0</td>\n",
              "      <td>05-02-2012 13:32</td>\n",
              "      <td>NaN</td>\n",
              "      <td>04-11-2013 13:50</td>\n",
              "      <td>04-11-2013 13:51</td>\n",
              "      <td>3,87,16,91,111</td>\n",
              "      <td>Other</td>\n",
              "      <td>1.0</td>\n",
              "      <td>SD0000007</td>\n",
              "      <td>2.0</td>\n",
              "      <td>NaN</td>\n",
              "      <td>NaN</td>\n",
              "    </tr>\n",
              "    <tr>\n",
              "      <th>1</th>\n",
              "      <td>1</td>\n",
              "      <td>WBA000124</td>\n",
              "      <td>application</td>\n",
              "      <td>Web Based Application</td>\n",
              "      <td>WBS000088</td>\n",
              "      <td>IM0000005</td>\n",
              "      <td>Closed</td>\n",
              "      <td>3</td>\n",
              "      <td>3</td>\n",
              "      <td>3.0</td>\n",
              "      <td>0.415050</td>\n",
              "      <td>incident</td>\n",
              "      <td>KM0000611</td>\n",
              "      <td>closed</td>\n",
              "      <td>33.0</td>\n",
              "      <td>12-03-2012 15:44</td>\n",
              "      <td>02-12-2013 12:31</td>\n",
              "      <td>02-12-2013 12:36</td>\n",
              "      <td>02-12-2013 12:36</td>\n",
              "      <td>4,35,47,86,389</td>\n",
              "      <td>Software</td>\n",
              "      <td>1.0</td>\n",
              "      <td>SD0000011</td>\n",
              "      <td>1.0</td>\n",
              "      <td>NaN</td>\n",
              "      <td>NaN</td>\n",
              "    </tr>\n",
              "    <tr>\n",
              "      <th>3</th>\n",
              "      <td>3</td>\n",
              "      <td>WBA000124</td>\n",
              "      <td>application</td>\n",
              "      <td>Web Based Application</td>\n",
              "      <td>WBS000088</td>\n",
              "      <td>IM0000011</td>\n",
              "      <td>Closed</td>\n",
              "      <td>4</td>\n",
              "      <td>4</td>\n",
              "      <td>4.0</td>\n",
              "      <td>0.642927</td>\n",
              "      <td>incident</td>\n",
              "      <td>KM0000611</td>\n",
              "      <td>closed</td>\n",
              "      <td>13.0</td>\n",
              "      <td>17-07-2012 11:49</td>\n",
              "      <td>NaN</td>\n",
              "      <td>14-11-2013 09:31</td>\n",
              "      <td>14-11-2013 09:31</td>\n",
              "      <td>4,32,18,33,333</td>\n",
              "      <td>Operator error</td>\n",
              "      <td>1.0</td>\n",
              "      <td>SD0000025</td>\n",
              "      <td>NaN</td>\n",
              "      <td>NaN</td>\n",
              "      <td>NaN</td>\n",
              "    </tr>\n",
              "    <tr>\n",
              "      <th>4</th>\n",
              "      <td>4</td>\n",
              "      <td>WBA000124</td>\n",
              "      <td>application</td>\n",
              "      <td>Web Based Application</td>\n",
              "      <td>WBS000088</td>\n",
              "      <td>IM0000012</td>\n",
              "      <td>Closed</td>\n",
              "      <td>4</td>\n",
              "      <td>4</td>\n",
              "      <td>4.0</td>\n",
              "      <td>0.345258</td>\n",
              "      <td>incident</td>\n",
              "      <td>KM0000611</td>\n",
              "      <td>closed</td>\n",
              "      <td>2.0</td>\n",
              "      <td>10-08-2012 11:01</td>\n",
              "      <td>NaN</td>\n",
              "      <td>08-11-2013 13:55</td>\n",
              "      <td>08-11-2013 13:55</td>\n",
              "      <td>3,38,39,03,333</td>\n",
              "      <td>Other</td>\n",
              "      <td>1.0</td>\n",
              "      <td>SD0000029</td>\n",
              "      <td>NaN</td>\n",
              "      <td>NaN</td>\n",
              "      <td>NaN</td>\n",
              "    </tr>\n",
              "    <tr>\n",
              "      <th>5</th>\n",
              "      <td>5</td>\n",
              "      <td>WBA000124</td>\n",
              "      <td>application</td>\n",
              "      <td>Web Based Application</td>\n",
              "      <td>WBS000088</td>\n",
              "      <td>IM0000013</td>\n",
              "      <td>Closed</td>\n",
              "      <td>4</td>\n",
              "      <td>4</td>\n",
              "      <td>4.0</td>\n",
              "      <td>0.006676</td>\n",
              "      <td>incident</td>\n",
              "      <td>KM0000611</td>\n",
              "      <td>closed</td>\n",
              "      <td>4.0</td>\n",
              "      <td>10-08-2012 11:27</td>\n",
              "      <td>NaN</td>\n",
              "      <td>08-11-2013 13:54</td>\n",
              "      <td>08-11-2013 13:54</td>\n",
              "      <td>3,38,34,36,944</td>\n",
              "      <td>Other</td>\n",
              "      <td>1.0</td>\n",
              "      <td>SD0000031</td>\n",
              "      <td>NaN</td>\n",
              "      <td>NaN</td>\n",
              "      <td>NaN</td>\n",
              "    </tr>\n",
              "  </tbody>\n",
              "</table>\n",
              "</div>"
            ],
            "text/plain": [
              "   Unnamed: 0    CI_Name  ... No_of_Related_Changes Related_Change\n",
              "0           0  SUB000508  ...                   NaN            NaN\n",
              "1           1  WBA000124  ...                   NaN            NaN\n",
              "3           3  WBA000124  ...                   NaN            NaN\n",
              "4           4  WBA000124  ...                   NaN            NaN\n",
              "5           5  WBA000124  ...                   NaN            NaN\n",
              "\n",
              "[5 rows x 26 columns]"
            ]
          },
          "metadata": {
            "tags": []
          },
          "execution_count": 112
        }
      ]
    },
    {
      "cell_type": "code",
      "metadata": {
        "id": "gQ80b9yeHOXA",
        "colab_type": "code",
        "outputId": "d8db84ed-1777-4227-e05d-41fffb43432c",
        "colab": {
          "base_uri": "https://localhost:8080/",
          "height": 35
        }
      },
      "source": [
        "ITSM_df1.shape"
      ],
      "execution_count": 0,
      "outputs": [
        {
          "output_type": "execute_result",
          "data": {
            "text/plain": [
              "(45226, 26)"
            ]
          },
          "metadata": {
            "tags": []
          },
          "execution_count": 113
        }
      ]
    },
    {
      "cell_type": "code",
      "metadata": {
        "id": "oKgiI3bPHyOu",
        "colab_type": "code",
        "outputId": "0025155e-69a8-488e-b308-bcfcc3ec68b3",
        "colab": {
          "base_uri": "https://localhost:8080/",
          "height": 35
        }
      },
      "source": [
        "Counter(ITSM_df1.Priority)"
      ],
      "execution_count": 0,
      "outputs": [
        {
          "output_type": "execute_result",
          "data": {
            "text/plain": [
              "Counter({1.0: 3, 2.0: 697, 3.0: 5323, 4.0: 22717, 5.0: 16486})"
            ]
          },
          "metadata": {
            "tags": []
          },
          "execution_count": 114
        }
      ]
    },
    {
      "cell_type": "code",
      "metadata": {
        "id": "hr2bwBk-H49X",
        "colab_type": "code",
        "colab": {}
      },
      "source": [
        "ITSM_df2=ITSM_df1[ITSM_df1.Close_Time>ITSM_df1.Open_Time]"
      ],
      "execution_count": 0,
      "outputs": []
    },
    {
      "cell_type": "code",
      "metadata": {
        "id": "dRuDeiKvcqsu",
        "colab_type": "code",
        "outputId": "aaa6845f-2b32-49a6-d25b-4d6e08386116",
        "colab": {
          "base_uri": "https://localhost:8080/",
          "height": 581
        }
      },
      "source": [
        "ITSM_df2.info()"
      ],
      "execution_count": 0,
      "outputs": [
        {
          "output_type": "stream",
          "text": [
            "<class 'pandas.core.frame.DataFrame'>\n",
            "Int64Index: 39232 entries, 6 to 46605\n",
            "Data columns (total 26 columns):\n",
            "Unnamed: 0                    39232 non-null int64\n",
            "CI_Name                       39232 non-null object\n",
            "CI_Cat                        39138 non-null object\n",
            "CI_Subcat                     39138 non-null object\n",
            "WBS                           39232 non-null object\n",
            "Incident_ID                   39232 non-null object\n",
            "Status                        39232 non-null object\n",
            "Impact                        39232 non-null object\n",
            "Urgency                       39232 non-null object\n",
            "Priority                      39232 non-null float64\n",
            "number_cnt                    39232 non-null float64\n",
            "Category                      39232 non-null object\n",
            "KB_number                     39232 non-null object\n",
            "Alert_Status                  39232 non-null object\n",
            "No_of_Reassignments           39232 non-null float64\n",
            "Open_Time                     39232 non-null object\n",
            "Reopen_Time                   1653 non-null object\n",
            "Resolved_Time                 37779 non-null object\n",
            "Close_Time                    39232 non-null object\n",
            "Handle_Time_hrs               39232 non-null object\n",
            "Closure_Code                  38828 non-null object\n",
            "No_of_Related_Interactions    39128 non-null float64\n",
            "Related_Interaction           39232 non-null object\n",
            "No_of_Related_Incidents       922 non-null float64\n",
            "No_of_Related_Changes         408 non-null float64\n",
            "Related_Change                408 non-null object\n",
            "dtypes: float64(6), int64(1), object(19)\n",
            "memory usage: 8.1+ MB\n"
          ],
          "name": "stdout"
        }
      ]
    },
    {
      "cell_type": "code",
      "metadata": {
        "id": "2PaQq12Bc7wd",
        "colab_type": "code",
        "outputId": "aa987f2f-faeb-4327-fc0c-71712c763fc2",
        "colab": {
          "base_uri": "https://localhost:8080/",
          "height": 35
        }
      },
      "source": [
        "selected =ITSM_df.loc[:,['CI_Subcat','WBS','Category','Priority']]\n",
        "selected.dropna(inplace=True)\n",
        "Counter(selected.Priority)"
      ],
      "execution_count": 0,
      "outputs": [
        {
          "output_type": "execute_result",
          "data": {
            "text/plain": [
              "Counter({1.0: 3, 2.0: 689, 3.0: 5310, 4.0: 22689, 5.0: 16427})"
            ]
          },
          "metadata": {
            "tags": []
          },
          "execution_count": 117
        }
      ]
    },
    {
      "cell_type": "code",
      "metadata": {
        "id": "yltGB3G1e01u",
        "colab_type": "code",
        "outputId": "af0a361c-9209-48fc-962d-9d6cc2ca5e6d",
        "colab": {
          "base_uri": "https://localhost:8080/",
          "height": 181
        }
      },
      "source": [
        "selected.info()"
      ],
      "execution_count": 0,
      "outputs": [
        {
          "output_type": "stream",
          "text": [
            "<class 'pandas.core.frame.DataFrame'>\n",
            "Int64Index: 45118 entries, 0 to 46605\n",
            "Data columns (total 4 columns):\n",
            "CI_Subcat    45118 non-null object\n",
            "WBS          45118 non-null object\n",
            "Category     45118 non-null object\n",
            "Priority     45118 non-null float64\n",
            "dtypes: float64(1), object(3)\n",
            "memory usage: 1.7+ MB\n"
          ],
          "name": "stdout"
        }
      ]
    },
    {
      "cell_type": "code",
      "metadata": {
        "id": "iBWnIhuxfJgg",
        "colab_type": "code",
        "colab": {}
      },
      "source": [
        "selected = selected[selected.Priority!=1]"
      ],
      "execution_count": 0,
      "outputs": []
    },
    {
      "cell_type": "code",
      "metadata": {
        "id": "6UuHMZACfNSB",
        "colab_type": "code",
        "outputId": "80b32a61-9205-4625-dbdc-fa4c07211b04",
        "colab": {
          "base_uri": "https://localhost:8080/",
          "height": 181
        }
      },
      "source": [
        "selected.info()"
      ],
      "execution_count": 0,
      "outputs": [
        {
          "output_type": "stream",
          "text": [
            "<class 'pandas.core.frame.DataFrame'>\n",
            "Int64Index: 45115 entries, 0 to 46605\n",
            "Data columns (total 4 columns):\n",
            "CI_Subcat    45115 non-null object\n",
            "WBS          45115 non-null object\n",
            "Category     45115 non-null object\n",
            "Priority     45115 non-null float64\n",
            "dtypes: float64(1), object(3)\n",
            "memory usage: 1.7+ MB\n"
          ],
          "name": "stdout"
        }
      ]
    },
    {
      "cell_type": "code",
      "metadata": {
        "id": "a4PtOP4o6Tmd",
        "colab_type": "code",
        "colab": {}
      },
      "source": [
        "from sklearn.preprocessing import LabelEncoder\n",
        "enc = LabelEncoder()\n",
        "selected.CI_Subcat = enc.fit_transform(X.CI_Subcat)\n",
        "selected.Category = enc.fit_transform(X.Category)\n",
        "selected.WBS = selected.WBS.str[4:].astype('int')"
      ],
      "execution_count": 0,
      "outputs": []
    },
    {
      "cell_type": "code",
      "metadata": {
        "id": "3qMicjC66alo",
        "colab_type": "code",
        "outputId": "5b02d2d1-b33d-464c-9b06-11f33e1ded95",
        "colab": {
          "base_uri": "https://localhost:8080/",
          "height": 35
        }
      },
      "source": [
        "Counter(selected.Category)"
      ],
      "execution_count": 0,
      "outputs": [
        {
          "output_type": "execute_result",
          "data": {
            "text/plain": [
              "Counter({0: 11, 1: 36316, 2: 1, 3: 8787})"
            ]
          },
          "metadata": {
            "tags": []
          },
          "execution_count": 122
        }
      ]
    },
    {
      "cell_type": "code",
      "metadata": {
        "id": "iAr8ZpT1gRGm",
        "colab_type": "code",
        "colab": {}
      },
      "source": [
        "X = selected.loc[:,['CI_Subcat','WBS','Category',]]\n",
        "y = selected.Priority"
      ],
      "execution_count": 0,
      "outputs": []
    },
    {
      "cell_type": "code",
      "metadata": {
        "id": "aFzrhk3utYUK",
        "colab_type": "code",
        "colab": {}
      },
      "source": [
        "from sklearn.model_selection import train_test_split\n",
        "X_train, X_test, y_train, y_test = train_test_split(X, y,stratify=y,random_state=15)\n"
      ],
      "execution_count": 0,
      "outputs": []
    },
    {
      "cell_type": "code",
      "metadata": {
        "id": "rMPVMzyEyFZY",
        "colab_type": "code",
        "outputId": "dad07666-a1d9-4b59-c1ed-11a8aea86f37",
        "colab": {
          "base_uri": "https://localhost:8080/",
          "height": 201
        }
      },
      "source": [
        "from sklearn.ensemble import RandomForestClassifier\n",
        "model = RandomForestClassifier()\n",
        "model.fit(X_train,y_train)"
      ],
      "execution_count": 0,
      "outputs": [
        {
          "output_type": "stream",
          "text": [
            "/usr/local/lib/python3.6/dist-packages/sklearn/ensemble/forest.py:245: FutureWarning: The default value of n_estimators will change from 10 in version 0.20 to 100 in 0.22.\n",
            "  \"10 in version 0.20 to 100 in 0.22.\", FutureWarning)\n"
          ],
          "name": "stderr"
        },
        {
          "output_type": "execute_result",
          "data": {
            "text/plain": [
              "RandomForestClassifier(bootstrap=True, class_weight=None, criterion='gini',\n",
              "                       max_depth=None, max_features='auto', max_leaf_nodes=None,\n",
              "                       min_impurity_decrease=0.0, min_impurity_split=None,\n",
              "                       min_samples_leaf=1, min_samples_split=2,\n",
              "                       min_weight_fraction_leaf=0.0, n_estimators=10,\n",
              "                       n_jobs=None, oob_score=False, random_state=None,\n",
              "                       verbose=0, warm_start=False)"
            ]
          },
          "metadata": {
            "tags": []
          },
          "execution_count": 125
        }
      ]
    },
    {
      "cell_type": "code",
      "metadata": {
        "id": "9jrXG7LA7kEk",
        "colab_type": "code",
        "outputId": "0462a8a4-1211-45f0-d023-1acbf93637f0",
        "colab": {
          "base_uri": "https://localhost:8080/",
          "height": 108
        }
      },
      "source": [
        "y_pred = model.predict(X_test)\n",
        "from sklearn.metrics import confusion_matrix,accuracy_score\n",
        "print(confusion_matrix(y_test,y_pred))\n",
        "accuracy_score(y_test,y_pred)\n"
      ],
      "execution_count": 0,
      "outputs": [
        {
          "output_type": "stream",
          "text": [
            "[[ 110    4   40   18]\n",
            " [  43  824  350  111]\n",
            " [  53  154 5189  276]\n",
            " [   8   44  774 3281]]\n"
          ],
          "name": "stdout"
        },
        {
          "output_type": "execute_result",
          "data": {
            "text/plain": [
              "0.8337618583207731"
            ]
          },
          "metadata": {
            "tags": []
          },
          "execution_count": 126
        }
      ]
    },
    {
      "cell_type": "code",
      "metadata": {
        "id": "IYKzciqG7lAb",
        "colab_type": "code",
        "outputId": "8acd69e6-fe63-4822-f7f4-a3360d409b3c",
        "colab": {
          "base_uri": "https://localhost:8080/",
          "height": 217
        }
      },
      "source": [
        "from sklearn.metrics import classification_report\n",
        "from sklearn.metrics import confusion_matrix,accuracy_score\n",
        "print(classification_report(y_test,y_pred))\n"
      ],
      "execution_count": 0,
      "outputs": [
        {
          "output_type": "stream",
          "text": [
            "              precision    recall  f1-score   support\n",
            "\n",
            "         2.0       0.51      0.64      0.57       172\n",
            "         3.0       0.80      0.62      0.70      1328\n",
            "         4.0       0.82      0.91      0.86      5672\n",
            "         5.0       0.89      0.80      0.84      4107\n",
            "\n",
            "    accuracy                           0.83     11279\n",
            "   macro avg       0.76      0.74      0.74     11279\n",
            "weighted avg       0.84      0.83      0.83     11279\n",
            "\n"
          ],
          "name": "stdout"
        }
      ]
    },
    {
      "cell_type": "code",
      "metadata": {
        "id": "OJIhqP3rvh5K",
        "colab_type": "code",
        "outputId": "828732e1-b43d-4090-bb36-dff8a6a2dde5",
        "colab": {
          "base_uri": "https://localhost:8080/",
          "height": 164
        }
      },
      "source": [
        "\n",
        "model=RandomForestClassifier()\n",
        "model.fit(X_train,y_train)\n",
        "y_pred = model.predict(X_test)\n",
        "from sklearn.metrics import confusion_matrix,accuracy_score\n",
        "print(confusion_matrix(y_test,y_pred))\n",
        "accuracy_score(y_test,y_pred)"
      ],
      "execution_count": 0,
      "outputs": [
        {
          "output_type": "stream",
          "text": [
            "[[ 108    6   40   18]\n",
            " [  42  830  343  113]\n",
            " [  52  158 5190  272]\n",
            " [   8   42  770 3287]]\n"
          ],
          "name": "stdout"
        },
        {
          "output_type": "stream",
          "text": [
            "/usr/local/lib/python3.6/dist-packages/sklearn/ensemble/forest.py:245: FutureWarning: The default value of n_estimators will change from 10 in version 0.20 to 100 in 0.22.\n",
            "  \"10 in version 0.20 to 100 in 0.22.\", FutureWarning)\n"
          ],
          "name": "stderr"
        },
        {
          "output_type": "execute_result",
          "data": {
            "text/plain": [
              "0.8347371220852913"
            ]
          },
          "metadata": {
            "tags": []
          },
          "execution_count": 128
        }
      ]
    },
    {
      "cell_type": "code",
      "metadata": {
        "id": "jHzwj7mBCGPa",
        "colab_type": "code",
        "colab": {}
      },
      "source": [
        ""
      ],
      "execution_count": 0,
      "outputs": []
    }
  ]
}